{
 "cells": [
  {
   "cell_type": "code",
   "execution_count": 10,
   "metadata": {},
   "outputs": [],
   "source": [
    "setofbrexitwords = [\"Brexit\",\"Article 50\", \"Article 49\", \"ANPR\", \"Hard Brexit\", \"CTA\", \"Common Travel Area\", \n",
    "                    \"Customs Union\", \"EUCU\", \"EEA\", \"European Economic Area\", \"Free Trade Agreement\", \"Hard Border\",\n",
    "                    \"Schengen Area\",\"Single Market\"]"
   ]
  },
  {
   "cell_type": "code",
   "execution_count": 11,
   "metadata": {},
   "outputs": [],
   "source": [
    "from itertools import permutations\n",
    "from collections import Counter\n",
    "import os"
   ]
  },
  {
   "cell_type": "code",
   "execution_count": 31,
   "metadata": {},
   "outputs": [
    {
     "ename": "PermissionError",
     "evalue": "[Errno 13] Permission denied: 'C:/Users/lilyv/OneDrive/Bureaublad/Dates'",
     "output_type": "error",
     "traceback": [
      "\u001b[1;31m---------------------------------------------------------------------------\u001b[0m",
      "\u001b[1;31mPermissionError\u001b[0m                           Traceback (most recent call last)",
      "\u001b[1;32m<ipython-input-31-e115cc9186f1>\u001b[0m in \u001b[0;36m<module>\u001b[1;34m\u001b[0m\n\u001b[0;32m      2\u001b[0m \u001b[0mpath\u001b[0m \u001b[1;33m=\u001b[0m \u001b[0mos\u001b[0m\u001b[1;33m.\u001b[0m\u001b[0mpath\u001b[0m\u001b[1;33m.\u001b[0m\u001b[0mexpanduser\u001b[0m\u001b[1;33m(\u001b[0m\u001b[0mpath\u001b[0m\u001b[1;33m)\u001b[0m\u001b[1;33m\u001b[0m\u001b[1;33m\u001b[0m\u001b[0m\n\u001b[0;32m      3\u001b[0m \u001b[1;33m\u001b[0m\u001b[0m\n\u001b[1;32m----> 4\u001b[1;33m \u001b[1;32mwith\u001b[0m \u001b[0mopen\u001b[0m\u001b[1;33m(\u001b[0m\u001b[0mpath\u001b[0m\u001b[1;33m,\u001b[0m \u001b[0mencoding\u001b[0m\u001b[1;33m=\u001b[0m\u001b[1;34m\"utf8\"\u001b[0m\u001b[1;33m)\u001b[0m \u001b[1;32mas\u001b[0m \u001b[0mtextfile\u001b[0m\u001b[1;33m:\u001b[0m\u001b[1;33m\u001b[0m\u001b[1;33m\u001b[0m\u001b[0m\n\u001b[0m\u001b[0;32m      5\u001b[0m     \u001b[0mreader\u001b[0m \u001b[1;33m=\u001b[0m \u001b[0mtextfile\u001b[0m\u001b[1;33m.\u001b[0m\u001b[0mread\u001b[0m\u001b[1;33m(\u001b[0m\u001b[1;33m)\u001b[0m\u001b[1;33m\u001b[0m\u001b[1;33m\u001b[0m\u001b[0m\n\u001b[0;32m      6\u001b[0m     \u001b[0mprint\u001b[0m\u001b[1;33m(\u001b[0m\u001b[0mreader\u001b[0m\u001b[1;33m)\u001b[0m\u001b[1;33m\u001b[0m\u001b[1;33m\u001b[0m\u001b[0m\n",
      "\u001b[1;31mPermissionError\u001b[0m: [Errno 13] Permission denied: 'C:/Users/lilyv/OneDrive/Bureaublad/Dates'"
     ]
    }
   ],
   "source": [
    "path = 'C:/Users/lilyv/OneDrive/Bureaublad/Dates'\n",
    "path = os.path.expanduser(path)\n",
    "\n",
    "with open(path, encoding=\"utf8\") as textfile:\n",
    "    reader = textfile.read()\n",
    "    print(reader)"
   ]
  },
  {
   "cell_type": "markdown",
   "metadata": {},
   "source": [
    "This is the text used for testing"
   ]
  },
  {
   "cell_type": "code",
   "execution_count": 32,
   "metadata": {},
   "outputs": [],
   "source": [
    "text=\".     Angela Smith (Penistone and Stocksbridge) (Lab)       Share       It is a pleasure to follow the hon. Member for Eastleigh (Mims Davies). I echo many of the comments about the economy made by my hon. Friends on the Front Bench, particularly in relation to productivity, with the latest figures showing the largest quarterly fall since 2008. I acknowledge that the Government have issued a challenge to areas such as mine to play their part in tackling the productivity and economic growth gap by developing devolution in the form of the northern powerhouse. I for one accept that challenge. I accept that Sheffield city region has to raise its game. We have to play our part and believe in ourselves, which we have not done for a very long time. Quite simply—as one employer said to me today in an email—we must believe that we have the skills, knowledge and ability to surpass London and become a generator of great wealth again. However, the Government must play their part too, and at the moment they are not doing so. The announcement today about the Department for Business, Innovation and Skills and the relocation of staff from Sheffield to London belies everything that the Government have said on this point, but they can remedy the situation. I will be watching carefully the development of the infrastructure plan. In particular, I will be looking for confirmation that the new trans-Pennine links between Manchester and Sheffield will be given the green light, as they are essential to the future of the northern economy. I will keep up the pressure on the Government to support a positive outcome to the steel crisis. Funnily enough, the crisis in South Yorkshire has triggered a revival in the faith and the confidence that we used to have in ourselves and in our engineering prowess. My plea to the Government today is: please do not let us down. We believe that we are the best steel producers in the world. If the Government believe in us, we will deliver. Let me turn now to the biggest threat facing the economy in the next few years—the instability that is currently characterising our political system. Let us be clear about this: in the UK, politics is polarising. We know that it is happening on the Labour Benches, as we have shifted to the left. On the Government Benches, Brexit is tearing the Conservative party apart, and the centre ground is disappearing before our very eyes. What on earth happened to the politics of the art of the possible? This movement is happening globally. In some countries, the polarisation is even greater. One has to look only at Austria last week and at Holland, where the three mainstream parties are set to secure, in total, just 40% in the elections next year. As we have seen, even the US is not immune from the phenomenon. Globalisation is one of the main causes of the situation. I echo the words of Mr Blair who said today that the problem of the centre ground was that it looks “as if we are managers of the status quo and not changers of it”. It is a worrying trend, and polarisation of the political sphere is creating a vacuum that could visit lasting damage on the social and economic fabric of this country. We bear a responsibility to resurrect the relevance of pragmatic politics. We need to demonstrate that centre-ground politics can deliver a progressive, prosperous and secure future for the people of this country. If we do not do that, the future of this country and its economy is very much in danger.     Share           2.43 pm        The edit just \""
   ]
  },
  {
   "cell_type": "code",
   "execution_count": 33,
   "metadata": {},
   "outputs": [
    {
     "data": {
      "text/plain": [
       "'.     Angela Smith (Penistone and Stocksbridge) (Lab)       Share       It is a pleasure to follow the hon. Member for Eastleigh (Mims Davies). I echo many of the comments about the economy made by my hon. Friends on the Front Bench, particularly in relation to productivity, with the latest figures '"
      ]
     },
     "execution_count": 33,
     "metadata": {},
     "output_type": "execute_result"
    }
   ],
   "source": [
    "text[:300]"
   ]
  },
  {
   "cell_type": "code",
   "execution_count": 34,
   "metadata": {},
   "outputs": [],
   "source": [
    "textdate=[(\"2016-05-26\", text), 0]"
   ]
  },
  {
   "cell_type": "markdown",
   "metadata": {},
   "source": [
    "This is a function to save all sentences of a file in a list"
   ]
  },
  {
   "cell_type": "code",
   "execution_count": 132,
   "metadata": {},
   "outputs": [],
   "source": [
    "def savesent(text):\n",
    "    lst = []\n",
    "    lot = [i for i in list(text.split(\" \")) if i !=\"\"]\n",
    "    sent=\"\"\n",
    "    for i in lot:\n",
    "        if i[-1] not in (\".\", \"!\", \"?\"):\n",
    "            sent+=i\n",
    "            sent+=\" \"\n",
    "        else:\n",
    "            sent+=i\n",
    "            lst.append(sent)\n",
    "            sent=\"\"\n",
    "    return lst\n",
    "    "
   ]
  },
  {
   "cell_type": "code",
   "execution_count": 133,
   "metadata": {},
   "outputs": [],
   "source": [
    "sentences = savesent(text)"
   ]
  },
  {
   "cell_type": "code",
   "execution_count": 134,
   "metadata": {},
   "outputs": [
    {
     "data": {
      "text/plain": [
       "['.',\n",
       " 'Angela Smith (Penistone and Stocksbridge) (Lab) Share It is a pleasure to follow the hon.',\n",
       " 'Member for Eastleigh (Mims Davies).',\n",
       " 'I echo many of the comments about the economy made by my hon.',\n",
       " 'Friends on the Front Bench, particularly in relation to productivity, with the latest figures showing the largest quarterly fall since 2008.',\n",
       " 'I acknowledge that the Government have issued a challenge to areas such as mine to play their part in tackling the productivity and economic growth gap by developing devolution in the form of the northern powerhouse.',\n",
       " 'I for one accept that challenge.',\n",
       " 'I accept that Sheffield city region has to raise its game.',\n",
       " 'We have to play our part and believe in ourselves, which we have not done for a very long time.',\n",
       " 'Quite simply—as one employer said to me today in an email—we must believe that we have the skills, knowledge and ability to surpass London and become a generator of great wealth again.']"
      ]
     },
     "execution_count": 134,
     "metadata": {},
     "output_type": "execute_result"
    }
   ],
   "source": [
    "sentences[:10]"
   ]
  },
  {
   "cell_type": "markdown",
   "metadata": {},
   "source": [
    "This counts all cooccurances of our top 5 brexit words per file"
   ]
  },
  {
   "cell_type": "code",
   "execution_count": 146,
   "metadata": {},
   "outputs": [],
   "source": [
    "words = [\"manchester\", \"2008\", \"i\", \"city\", \"we\"]\n",
    "spansize = 5\n",
    "cooccsw1 = Counter()\n",
    "cooccsw2 = Counter()\n",
    "cooccsw3 = Counter()\n",
    "cooccsw4 = Counter()\n",
    "cooccsw5 = Counter()\n",
    "\n",
    "def allcooccs(text):\n",
    "    sentences = savesent(text)\n",
    "    for sentence in sentences:\n",
    "        losentence = sentence.split(\" \")\n",
    "        for i in range(0, len(losentence)):\n",
    "            w=losentence[i].lower()\n",
    "            if w[-1] == \".\":\n",
    "                w=w[:-1]\n",
    "            if w in c: \n",
    "                span_range = list(range(max(i-spansize, 0), i))\n",
    "                span_range.extend(range(i+1, min(i + spansize + 1, len(losentence))))  \n",
    "                for cw in [losentence[idx] for idx in span_range]:\n",
    "                    if w == c[0]:\n",
    "                        cooccsw1[(w, cw)] += 1\n",
    "                    if w == c[1]:\n",
    "                        cooccsw2[(w, cw)] += 1\n",
    "                    if w == c[2]:\n",
    "                        cooccsw3[(w, cw)] += 1\n",
    "                    if w == c[3]:\n",
    "                        cooccsw4[(w, cw)] += 1\n",
    "                    if w == c[4]:\n",
    "                        cooccsw5[(w, cw)] += 1\n",
    "                        \n",
    "    return cooccsw1,cooccsw2,cooccsw3,cooccsw4,cooccsw5"
   ]
  },
  {
   "cell_type": "code",
   "execution_count": 147,
   "metadata": {},
   "outputs": [
    {
     "name": "stdout",
     "output_type": "stream",
     "text": [
      "[(('manchester', 'the'), 1), (('manchester', 'new'), 1), (('manchester', 'trans-Pennine'), 1), (('manchester', 'links'), 1), (('manchester', 'between'), 1)] [(('2008', 'the'), 1), (('2008', 'largest'), 1), (('2008', 'quarterly'), 1), (('2008', 'fall'), 1), (('2008', 'since'), 1)] [(('i', 'the'), 5), (('i', 'that'), 3), (('i', 'will'), 3), (('i', 'echo'), 2), (('i', 'of'), 2)] [(('city', 'I'), 1), (('city', 'accept'), 1), (('city', 'that'), 1), (('city', 'Sheffield'), 1), (('city', 'region'), 1)] [(('we', 'the'), 10), (('we', 'that'), 7), (('we', 'have'), 6), (('we', 'to'), 5), (('we', 'believe'), 5)]\n"
     ]
    }
   ],
   "source": [
    "allcooccs(text)\n",
    "print(cooccsw1.most_common(5), cooccsw2.most_common(5), cooccsw3.most_common(5), cooccsw4.most_common(5),cooccsw5.most_common(5))"
   ]
  },
  {
   "cell_type": "code",
   "execution_count": 148,
   "metadata": {},
   "outputs": [
    {
     "ename": "NameError",
     "evalue": "name 'files' is not defined",
     "output_type": "error",
     "traceback": [
      "\u001b[1;31m---------------------------------------------------------------------------\u001b[0m",
      "\u001b[1;31mNameError\u001b[0m                                 Traceback (most recent call last)",
      "\u001b[1;32m<ipython-input-148-e10d9690432b>\u001b[0m in \u001b[0;36m<module>\u001b[1;34m\u001b[0m\n\u001b[0;32m      1\u001b[0m \u001b[1;31m#counting coocurances for all files\u001b[0m\u001b[1;33m\u001b[0m\u001b[1;33m\u001b[0m\u001b[1;33m\u001b[0m\u001b[0m\n\u001b[1;32m----> 2\u001b[1;33m \u001b[1;32mfor\u001b[0m \u001b[0mfile\u001b[0m \u001b[1;32min\u001b[0m \u001b[0mfiles\u001b[0m\u001b[1;33m:\u001b[0m\u001b[1;33m\u001b[0m\u001b[1;33m\u001b[0m\u001b[0m\n\u001b[0m\u001b[0;32m      3\u001b[0m     \u001b[0mallcooccs\u001b[0m\u001b[1;33m(\u001b[0m\u001b[0mfile\u001b[0m\u001b[1;33m)\u001b[0m\u001b[1;33m\u001b[0m\u001b[1;33m\u001b[0m\u001b[0m\n",
      "\u001b[1;31mNameError\u001b[0m: name 'files' is not defined"
     ]
    }
   ],
   "source": [
    "#counting coocurances for all files\n",
    "for file in files:\n",
    "    allcooccs(file)"
   ]
  },
  {
   "cell_type": "code",
   "execution_count": 149,
   "metadata": {},
   "outputs": [],
   "source": [
    "#puts the top 5 cooccuring words as values to the centre words\n",
    "dict={}\n",
    "\n",
    "dict[words[0]]=[x[0][1] for x in cooccsw1.most_common(5)]\n",
    "dict[words[1]]=[x[0][1] for x in cooccsw2.most_common(5)]\n",
    "dict[words[2]]=[x[0][1] for x in cooccsw3.most_common(5)]\n",
    "dict[words[3]]=[x[0][1] for x in cooccsw4.most_common(5)]\n",
    "dict[words[4]]=[x[0][1] for x in cooccsw5.most_common(5)]"
   ]
  },
  {
   "cell_type": "code",
   "execution_count": 150,
   "metadata": {},
   "outputs": [
    {
     "data": {
      "text/plain": [
       "['the', 'that', 'will', 'echo', 'of']"
      ]
     },
     "execution_count": 150,
     "metadata": {},
     "output_type": "execute_result"
    }
   ],
   "source": [
    "dict[\"i\"]"
   ]
  },
  {
   "cell_type": "code",
   "execution_count": 153,
   "metadata": {},
   "outputs": [],
   "source": [
    "lstw1=[cooccsw1[(words[0], x)] for x in dict[words[0]]]\n",
    "lstw2=[cooccsw2[(words[1], x)] for x in dict[words[1]]]\n",
    "lstw3=[cooccsw3[(words[2], x)] for x in dict[words[2]]]\n",
    "lstw4=[cooccsw4[(words[3], x)] for x in dict[words[3]]]\n",
    "lstw5=[cooccsw5[(words[4], x)] for x in dict[words[4]]]"
   ]
  },
  {
   "cell_type": "code",
   "execution_count": 154,
   "metadata": {},
   "outputs": [
    {
     "name": "stdout",
     "output_type": "stream",
     "text": [
      "[5, 3, 3, 2, 2]\n"
     ]
    }
   ],
   "source": [
    "print(lstw3)"
   ]
  },
  {
   "cell_type": "code",
   "execution_count": 155,
   "metadata": {},
   "outputs": [
    {
     "data": {
      "image/png": "[encoded data removed]",
      "text/plain": [
       "<Figure size 432x288 with 1 Axes>"
      ]
     },
     "metadata": {
      "needs_background": "light"
     },
     "output_type": "display_data"
    },
    {
     "data": {
      "image/png": "[encoded data removed]",
      "text/plain": [
       "<Figure size 432x288 with 1 Axes>"
      ]
     },
     "metadata": {
      "needs_background": "light"
     },
     "output_type": "display_data"
    },
    {
     "data": {
      "image/png": "[encoded data removed]",
      "text/plain": [
       "<Figure size 432x288 with 1 Axes>"
      ]
     },
     "metadata": {
      "needs_background": "light"
     },
     "output_type": "display_data"
    },
    {
     "data": {
      "image/png": "[encoded data removed]",
      "text/plain": [
       "<Figure size 432x288 with 1 Axes>"
      ]
     },
     "metadata": {
      "needs_background": "light"
     },
     "output_type": "display_data"
    },
    {
     "data": {
      "image/png": "[encoded data removed]",
      "text/plain": [
       "<Figure size 432x288 with 1 Axes>"
      ]
     },
     "metadata": {
      "needs_background": "light"
     },
     "output_type": "display_data"
    }
   ],
   "source": [
    "import matplotlib.pyplot as plt\n",
    "\n",
    "v1 = lstw1#list values\n",
    "k1 = dict[words[0]]#list keys\n",
    "\n",
    "v2 = lstw2#list values\n",
    "k2 = dict[words[1]]#list keys\n",
    "\n",
    "v3 = lstw3#list values\n",
    "k3 = dict[words[2]]#list keys\n",
    "\n",
    "v4 = lstw4#list values\n",
    "k4 = dict[words[3]]#list keys\n",
    "\n",
    "v5 = lstw5#list values\n",
    "k5 = dict[words[4]]#list keys\n",
    "        \n",
    "plt.bar(k1, v1)\n",
    "plt.title(words[0])\n",
    "plt.show()\n",
    "\n",
    "plt.bar(k2, v2)\n",
    "plt.title(words[1])\n",
    "plt.show()\n",
    "\n",
    "plt.bar(k3, v3)\n",
    "plt.title(words[2])\n",
    "plt.show()\n",
    "\n",
    "plt.bar(k4, v4)\n",
    "plt.title(words[3])\n",
    "plt.show()\n",
    "\n",
    "plt.bar(k5, v5)\n",
    "plt.title(words[4])\n",
    "plt.show()\n",
    "\n"
   ]
  },
  {
   "cell_type": "code",
   "execution_count": 156,
   "metadata": {},
   "outputs": [],
   "source": [
    "#now we will plot them over time\n",
    "def lstofmonths(start, finish):\n",
    "    lst=[start]\n",
    "    i=start\n",
    "    while i != finish:\n",
    "        if i[1]==12:\n",
    "            i=[i[0]+1, 1]\n",
    "        else:\n",
    "            i=[i[0], i[1]+1]\n",
    "        lst.append(i)\n",
    "    return lst\n",
    "    "
   ]
  },
  {
   "cell_type": "code",
   "execution_count": 131,
   "metadata": {},
   "outputs": [
    {
     "name": "stdout",
     "output_type": "stream",
     "text": [
      "[[2016, 5], [2016, 6], [2016, 7], [2016, 8], [2016, 9], [2016, 10], [2016, 11], [2016, 12], [2017, 1], [2017, 2], [2017, 3], [2017, 4], [2017, 5], [2017, 6], [2017, 7], [2017, 8], [2017, 9], [2017, 10], [2017, 11], [2017, 12], [2018, 1], [2018, 2], [2018, 3], [2018, 4], [2018, 5], [2018, 6], [2018, 7], [2018, 8], [2018, 9], [2018, 10], [2018, 11], [2018, 12], [2019, 1], [2019, 2], [2019, 3], [2019, 4], [2019, 5], [2019, 6], [2019, 7], [2019, 8], [2019, 9], [2019, 10], [2019, 11]]\n"
     ]
    }
   ],
   "source": [
    "months=lstofmonths([2016, 5],[2019, 11])\n",
    "print(months)"
   ]
  },
  {
   "cell_type": "code",
   "execution_count": 45,
   "metadata": {},
   "outputs": [
    {
     "name": "stdout",
     "output_type": "stream",
     "text": [
      "[2016, 5] [2016, 5]\n",
      "True\n"
     ]
    }
   ],
   "source": [
    "x = [int(i) for i in \"2016-05-26\".split(\"-\")[:-1]]\n",
    "print(x, months[0])\n",
    "print(x==months[0])"
   ]
  },
  {
   "cell_type": "code",
   "execution_count": 46,
   "metadata": {},
   "outputs": [],
   "source": [
    "def cooccs(filetxt, cw, cc):\n",
    "    cooccs=0\n",
    "    sentences = savesent(filetxt) #saves it as a list of sentences\n",
    "    for sentence in sentences: #loops over all sentences\n",
    "        losentence = sentence.split(\" \") #puts sentence into a list of words\n",
    "        for i in range(0, len(losentence)): #loops over all words in list of words\n",
    "            w=losentence[i]\n",
    "            if w[-1] == \".\": #ensures words with a . also get recognised\n",
    "                w=w[:-1]\n",
    "            if w.lower() == cc: #checks whether word is center word\n",
    "                span_range = list(range(max(i-spansize, 0), i)) #makes a range from span from beginning till cc\n",
    "                span_range.extend(range(i+1, min(i + spansize + 1, len(losentence)))) #extends span till end\n",
    "                for somecw in [losentence[idx] for idx in span_range]: #for all words in span\n",
    "                    if somecw == cw: cooccs += 1 #if word in span is equal to cw tehn increade cc\n",
    "    return cooccs       \n",
    "    "
   ]
  },
  {
   "cell_type": "code",
   "execution_count": 47,
   "metadata": {},
   "outputs": [
    {
     "data": {
      "text/plain": [
       "1"
      ]
     },
     "execution_count": 47,
     "metadata": {},
     "output_type": "execute_result"
    }
   ],
   "source": [
    "cooccsptext(text, \"Manchester\", \"new\")"
   ]
  },
  {
   "cell_type": "code",
   "execution_count": 48,
   "metadata": {},
   "outputs": [],
   "source": [
    "w1cw11=[]\n",
    "w1cw12=[]\n",
    "w1cw13=[]\n",
    "w1cw14=[]\n",
    "w1cw15=[]\n",
    "\n",
    "w2cw21=[]\n",
    "w2cw22=[]\n",
    "w2cw23=[]\n",
    "w2cw24=[]\n",
    "w2cw25=[]\n",
    "\n",
    "w3cw31=[]\n",
    "w3cw32=[]\n",
    "w3cw33=[]\n",
    "w3cw34=[]\n",
    "w3cw35=[]\n",
    "\n",
    "w4cw41=[]\n",
    "w4cw42=[]\n",
    "w4cw43=[]\n",
    "w4cw44=[]\n",
    "w4cw45=[]\n",
    "\n",
    "w5cw51=[]\n",
    "w5cw52=[]\n",
    "w5cw53=[]\n",
    "w5cw54=[]\n",
    "w5cw55=[]"
   ]
  },
  {
   "cell_type": "code",
   "execution_count": 50,
   "metadata": {},
   "outputs": [
    {
     "ename": "NameError",
     "evalue": "name 'files' is not defined",
     "output_type": "error",
     "traceback": [
      "\u001b[1;31m---------------------------------------------------------------------------\u001b[0m",
      "\u001b[1;31mNameError\u001b[0m                                 Traceback (most recent call last)",
      "\u001b[1;32m<ipython-input-50-447aa96fbeb8>\u001b[0m in \u001b[0;36m<module>\u001b[1;34m\u001b[0m\n\u001b[0;32m      3\u001b[0m \u001b[1;33m\u001b[0m\u001b[0m\n\u001b[0;32m      4\u001b[0m     \u001b[0mlstw\u001b[0m\u001b[1;33m=\u001b[0m\u001b[1;33m[\u001b[0m\u001b[1;33m]\u001b[0m\u001b[1;33m\u001b[0m\u001b[1;33m\u001b[0m\u001b[0m\n\u001b[1;32m----> 5\u001b[1;33m     \u001b[1;32mfor\u001b[0m \u001b[0mfile\u001b[0m \u001b[1;32min\u001b[0m \u001b[0mfiles\u001b[0m\u001b[1;33m:\u001b[0m\u001b[1;33m\u001b[0m\u001b[1;33m\u001b[0m\u001b[0m\n\u001b[0m\u001b[0;32m      6\u001b[0m         \u001b[0mname\u001b[0m \u001b[1;33m=\u001b[0m \u001b[1;33m[\u001b[0m\u001b[0mint\u001b[0m\u001b[1;33m(\u001b[0m\u001b[0mi\u001b[0m\u001b[1;33m)\u001b[0m \u001b[1;32mfor\u001b[0m \u001b[0mi\u001b[0m \u001b[1;32min\u001b[0m \u001b[0mfilename\u001b[0m\u001b[1;33m.\u001b[0m\u001b[0msplit\u001b[0m\u001b[1;33m(\u001b[0m\u001b[1;34m\"-\"\u001b[0m\u001b[1;33m)\u001b[0m\u001b[1;33m[\u001b[0m\u001b[1;33m:\u001b[0m\u001b[1;33m-\u001b[0m\u001b[1;36m1\u001b[0m\u001b[1;33m]\u001b[0m\u001b[1;33m]\u001b[0m\u001b[1;33m\u001b[0m\u001b[1;33m\u001b[0m\u001b[0m\n\u001b[0;32m      7\u001b[0m         \u001b[1;32mif\u001b[0m \u001b[0mm\u001b[0m\u001b[1;33m[\u001b[0m\u001b[1;33m:\u001b[0m\u001b[1;33m-\u001b[0m\u001b[1;36m1\u001b[0m\u001b[1;33m]\u001b[0m \u001b[1;33m==\u001b[0m \u001b[0mname\u001b[0m\u001b[1;33m:\u001b[0m\u001b[1;33m\u001b[0m\u001b[1;33m\u001b[0m\u001b[0m\n",
      "\u001b[1;31mNameError\u001b[0m: name 'files' is not defined"
     ]
    }
   ],
   "source": [
    "lst=[]\n",
    "for m in months:\n",
    "    \n",
    "    lstw=[]\n",
    "    for file in files:\n",
    "        name = [int(i) for i in filename.split(\"-\")[:-1]]\n",
    "        if m[:-1] == name:\n",
    "            for w in words:\n",
    "                if w in file:\n",
    "                    lstcw=[]\n",
    "                    for cooccw in dict[w]:\n",
    "                        cooccs = cooccs(file, w, cooccw)\n",
    "                        lstcw.append(cooccs)\n",
    "                lstw.append(lstcw)\n",
    "                \n",
    "    w1cw11.append(lstw[0][0])\n",
    "    w1cw12.append(lstw[0][1])\n",
    "    w1cw13.append(lstw[0][2])\n",
    "    w1cw14.append(lstw[0][3])\n",
    "    w1cw15.append(lstw[0][4])\n",
    "\n",
    "    w2cw21.append(lstw[1][0])\n",
    "    w2cw22.append(lstw[1][1])\n",
    "    w2cw23.append(lstw[1][2])\n",
    "    w2cw24.append(lstw[1][3])\n",
    "    w2cw25.append(lstw[1][4])\n",
    "\n",
    "    w3cw31.append(lstw[2][0])\n",
    "    w3cw32.append(lstw[2][1])\n",
    "    w3cw33.append(lstw[2][2])\n",
    "    w3cw34.append(lstw[2][3])\n",
    "    w3cw35.append(lstw[2][4])\n",
    "\n",
    "    w4cw41.append(lstw[3][0])\n",
    "    w4cw42.append(lstw[3][1])\n",
    "    w4cw43.append(lstw[3][2])\n",
    "    w4cw44.append(lstw[3][3])\n",
    "    w4cw45.append(lstw[3][4])\n",
    "\n",
    "    w5cw51.append(lstw[4][0])\n",
    "    w5cw52.append(lstw[4][1])\n",
    "    w5cw53.append(lstw[4][2])\n",
    "    w5cw54.append(lstw[4][3])\n",
    "    w5cw55.append(lstw[4][4])\n",
    "                        "
   ]
  },
  {
   "cell_type": "code",
   "execution_count": 136,
   "metadata": {},
   "outputs": [
    {
     "ename": "ValueError",
     "evalue": "shape mismatch: objects cannot be broadcast to a single shape",
     "output_type": "error",
     "traceback": [
      "\u001b[1;31m---------------------------------------------------------------------------\u001b[0m",
      "\u001b[1;31mValueError\u001b[0m                                Traceback (most recent call last)",
      "\u001b[1;32m<ipython-input-136-d09782f4bf69>\u001b[0m in \u001b[0;36m<module>\u001b[1;34m\u001b[0m\n\u001b[0;32m      1\u001b[0m \u001b[1;32mimport\u001b[0m \u001b[0mmatplotlib\u001b[0m\u001b[1;33m.\u001b[0m\u001b[0mpyplot\u001b[0m \u001b[1;32mas\u001b[0m \u001b[0mplt\u001b[0m\u001b[1;33m\u001b[0m\u001b[1;33m\u001b[0m\u001b[0m\n\u001b[1;32m----> 2\u001b[1;33m \u001b[0mplt\u001b[0m\u001b[1;33m.\u001b[0m\u001b[0mbar\u001b[0m\u001b[1;33m(\u001b[0m\u001b[0mkm\u001b[0m\u001b[1;33m[\u001b[0m\u001b[1;33m:\u001b[0m\u001b[1;36m30\u001b[0m\u001b[1;33m]\u001b[0m\u001b[1;33m,\u001b[0m \u001b[0mvm\u001b[0m\u001b[1;33m[\u001b[0m\u001b[1;33m:\u001b[0m\u001b[1;36m30\u001b[0m\u001b[1;33m]\u001b[0m\u001b[1;33m)\u001b[0m\u001b[1;33m\u001b[0m\u001b[1;33m\u001b[0m\u001b[0m\n\u001b[0m\u001b[0;32m      3\u001b[0m \u001b[0mplt\u001b[0m\u001b[1;33m.\u001b[0m\u001b[0mtitle\u001b[0m\u001b[1;33m(\u001b[0m\u001b[1;34m\"manchester\"\u001b[0m\u001b[1;33m)\u001b[0m\u001b[1;33m\u001b[0m\u001b[1;33m\u001b[0m\u001b[0m\n",
      "\u001b[1;32m~\\Anaconda3\\lib\\site-packages\\matplotlib\\pyplot.py\u001b[0m in \u001b[0;36mbar\u001b[1;34m(x, height, width, bottom, align, data, **kwargs)\u001b[0m\n\u001b[0;32m   2438\u001b[0m     return gca().bar(\n\u001b[0;32m   2439\u001b[0m         \u001b[0mx\u001b[0m\u001b[1;33m,\u001b[0m \u001b[0mheight\u001b[0m\u001b[1;33m,\u001b[0m \u001b[0mwidth\u001b[0m\u001b[1;33m=\u001b[0m\u001b[0mwidth\u001b[0m\u001b[1;33m,\u001b[0m \u001b[0mbottom\u001b[0m\u001b[1;33m=\u001b[0m\u001b[0mbottom\u001b[0m\u001b[1;33m,\u001b[0m \u001b[0malign\u001b[0m\u001b[1;33m=\u001b[0m\u001b[0malign\u001b[0m\u001b[1;33m,\u001b[0m\u001b[1;33m\u001b[0m\u001b[1;33m\u001b[0m\u001b[0m\n\u001b[1;32m-> 2440\u001b[1;33m         **({\"data\": data} if data is not None else {}), **kwargs)\n\u001b[0m\u001b[0;32m   2441\u001b[0m \u001b[1;33m\u001b[0m\u001b[0m\n\u001b[0;32m   2442\u001b[0m \u001b[1;33m\u001b[0m\u001b[0m\n",
      "\u001b[1;32m~\\Anaconda3\\lib\\site-packages\\matplotlib\\__init__.py\u001b[0m in \u001b[0;36minner\u001b[1;34m(ax, data, *args, **kwargs)\u001b[0m\n\u001b[0;32m   1599\u001b[0m     \u001b[1;32mdef\u001b[0m \u001b[0minner\u001b[0m\u001b[1;33m(\u001b[0m\u001b[0max\u001b[0m\u001b[1;33m,\u001b[0m \u001b[1;33m*\u001b[0m\u001b[0margs\u001b[0m\u001b[1;33m,\u001b[0m \u001b[0mdata\u001b[0m\u001b[1;33m=\u001b[0m\u001b[1;32mNone\u001b[0m\u001b[1;33m,\u001b[0m \u001b[1;33m**\u001b[0m\u001b[0mkwargs\u001b[0m\u001b[1;33m)\u001b[0m\u001b[1;33m:\u001b[0m\u001b[1;33m\u001b[0m\u001b[1;33m\u001b[0m\u001b[0m\n\u001b[0;32m   1600\u001b[0m         \u001b[1;32mif\u001b[0m \u001b[0mdata\u001b[0m \u001b[1;32mis\u001b[0m \u001b[1;32mNone\u001b[0m\u001b[1;33m:\u001b[0m\u001b[1;33m\u001b[0m\u001b[1;33m\u001b[0m\u001b[0m\n\u001b[1;32m-> 1601\u001b[1;33m             \u001b[1;32mreturn\u001b[0m \u001b[0mfunc\u001b[0m\u001b[1;33m(\u001b[0m\u001b[0max\u001b[0m\u001b[1;33m,\u001b[0m \u001b[1;33m*\u001b[0m\u001b[0mmap\u001b[0m\u001b[1;33m(\u001b[0m\u001b[0msanitize_sequence\u001b[0m\u001b[1;33m,\u001b[0m \u001b[0margs\u001b[0m\u001b[1;33m)\u001b[0m\u001b[1;33m,\u001b[0m \u001b[1;33m**\u001b[0m\u001b[0mkwargs\u001b[0m\u001b[1;33m)\u001b[0m\u001b[1;33m\u001b[0m\u001b[1;33m\u001b[0m\u001b[0m\n\u001b[0m\u001b[0;32m   1602\u001b[0m \u001b[1;33m\u001b[0m\u001b[0m\n\u001b[0;32m   1603\u001b[0m         \u001b[0mbound\u001b[0m \u001b[1;33m=\u001b[0m \u001b[0mnew_sig\u001b[0m\u001b[1;33m.\u001b[0m\u001b[0mbind\u001b[0m\u001b[1;33m(\u001b[0m\u001b[0max\u001b[0m\u001b[1;33m,\u001b[0m \u001b[1;33m*\u001b[0m\u001b[0margs\u001b[0m\u001b[1;33m,\u001b[0m \u001b[1;33m**\u001b[0m\u001b[0mkwargs\u001b[0m\u001b[1;33m)\u001b[0m\u001b[1;33m\u001b[0m\u001b[1;33m\u001b[0m\u001b[0m\n",
      "\u001b[1;32m~\\Anaconda3\\lib\\site-packages\\matplotlib\\axes\\_axes.py\u001b[0m in \u001b[0;36mbar\u001b[1;34m(self, x, height, width, bottom, align, **kwargs)\u001b[0m\n\u001b[0;32m   2373\u001b[0m         x, height, width, y, linewidth = np.broadcast_arrays(\n\u001b[0;32m   2374\u001b[0m             \u001b[1;31m# Make args iterable too.\u001b[0m\u001b[1;33m\u001b[0m\u001b[1;33m\u001b[0m\u001b[1;33m\u001b[0m\u001b[0m\n\u001b[1;32m-> 2375\u001b[1;33m             np.atleast_1d(x), height, width, y, linewidth)\n\u001b[0m\u001b[0;32m   2376\u001b[0m \u001b[1;33m\u001b[0m\u001b[0m\n\u001b[0;32m   2377\u001b[0m         \u001b[1;31m# Now that units have been converted, set the tick locations.\u001b[0m\u001b[1;33m\u001b[0m\u001b[1;33m\u001b[0m\u001b[1;33m\u001b[0m\u001b[0m\n",
      "\u001b[1;32m~\\Anaconda3\\lib\\site-packages\\numpy\\lib\\stride_tricks.py\u001b[0m in \u001b[0;36mbroadcast_arrays\u001b[1;34m(*args, **kwargs)\u001b[0m\n\u001b[0;32m    257\u001b[0m     \u001b[0margs\u001b[0m \u001b[1;33m=\u001b[0m \u001b[1;33m[\u001b[0m\u001b[0mnp\u001b[0m\u001b[1;33m.\u001b[0m\u001b[0marray\u001b[0m\u001b[1;33m(\u001b[0m\u001b[0m_m\u001b[0m\u001b[1;33m,\u001b[0m \u001b[0mcopy\u001b[0m\u001b[1;33m=\u001b[0m\u001b[1;32mFalse\u001b[0m\u001b[1;33m,\u001b[0m \u001b[0msubok\u001b[0m\u001b[1;33m=\u001b[0m\u001b[0msubok\u001b[0m\u001b[1;33m)\u001b[0m \u001b[1;32mfor\u001b[0m \u001b[0m_m\u001b[0m \u001b[1;32min\u001b[0m \u001b[0margs\u001b[0m\u001b[1;33m]\u001b[0m\u001b[1;33m\u001b[0m\u001b[1;33m\u001b[0m\u001b[0m\n\u001b[0;32m    258\u001b[0m \u001b[1;33m\u001b[0m\u001b[0m\n\u001b[1;32m--> 259\u001b[1;33m     \u001b[0mshape\u001b[0m \u001b[1;33m=\u001b[0m \u001b[0m_broadcast_shape\u001b[0m\u001b[1;33m(\u001b[0m\u001b[1;33m*\u001b[0m\u001b[0margs\u001b[0m\u001b[1;33m)\u001b[0m\u001b[1;33m\u001b[0m\u001b[1;33m\u001b[0m\u001b[0m\n\u001b[0m\u001b[0;32m    260\u001b[0m \u001b[1;33m\u001b[0m\u001b[0m\n\u001b[0;32m    261\u001b[0m     \u001b[1;32mif\u001b[0m \u001b[0mall\u001b[0m\u001b[1;33m(\u001b[0m\u001b[0marray\u001b[0m\u001b[1;33m.\u001b[0m\u001b[0mshape\u001b[0m \u001b[1;33m==\u001b[0m \u001b[0mshape\u001b[0m \u001b[1;32mfor\u001b[0m \u001b[0marray\u001b[0m \u001b[1;32min\u001b[0m \u001b[0margs\u001b[0m\u001b[1;33m)\u001b[0m\u001b[1;33m:\u001b[0m\u001b[1;33m\u001b[0m\u001b[1;33m\u001b[0m\u001b[0m\n",
      "\u001b[1;32m~\\Anaconda3\\lib\\site-packages\\numpy\\lib\\stride_tricks.py\u001b[0m in \u001b[0;36m_broadcast_shape\u001b[1;34m(*args)\u001b[0m\n\u001b[0;32m    191\u001b[0m     \u001b[1;31m# use the old-iterator because np.nditer does not handle size 0 arrays\u001b[0m\u001b[1;33m\u001b[0m\u001b[1;33m\u001b[0m\u001b[1;33m\u001b[0m\u001b[0m\n\u001b[0;32m    192\u001b[0m     \u001b[1;31m# consistently\u001b[0m\u001b[1;33m\u001b[0m\u001b[1;33m\u001b[0m\u001b[1;33m\u001b[0m\u001b[0m\n\u001b[1;32m--> 193\u001b[1;33m     \u001b[0mb\u001b[0m \u001b[1;33m=\u001b[0m \u001b[0mnp\u001b[0m\u001b[1;33m.\u001b[0m\u001b[0mbroadcast\u001b[0m\u001b[1;33m(\u001b[0m\u001b[1;33m*\u001b[0m\u001b[0margs\u001b[0m\u001b[1;33m[\u001b[0m\u001b[1;33m:\u001b[0m\u001b[1;36m32\u001b[0m\u001b[1;33m]\u001b[0m\u001b[1;33m)\u001b[0m\u001b[1;33m\u001b[0m\u001b[1;33m\u001b[0m\u001b[0m\n\u001b[0m\u001b[0;32m    194\u001b[0m     \u001b[1;31m# unfortunately, it cannot handle 32 or more arguments directly\u001b[0m\u001b[1;33m\u001b[0m\u001b[1;33m\u001b[0m\u001b[1;33m\u001b[0m\u001b[0m\n\u001b[0;32m    195\u001b[0m     \u001b[1;32mfor\u001b[0m \u001b[0mpos\u001b[0m \u001b[1;32min\u001b[0m \u001b[0mrange\u001b[0m\u001b[1;33m(\u001b[0m\u001b[1;36m32\u001b[0m\u001b[1;33m,\u001b[0m \u001b[0mlen\u001b[0m\u001b[1;33m(\u001b[0m\u001b[0margs\u001b[0m\u001b[1;33m)\u001b[0m\u001b[1;33m,\u001b[0m \u001b[1;36m31\u001b[0m\u001b[1;33m)\u001b[0m\u001b[1;33m:\u001b[0m\u001b[1;33m\u001b[0m\u001b[1;33m\u001b[0m\u001b[0m\n",
      "\u001b[1;31mValueError\u001b[0m: shape mismatch: objects cannot be broadcast to a single shape"
     ]
    },
    {
     "data": {
      "image/png": "[encoded data removed]",
      "text/plain": [
       "<Figure size 432x288 with 1 Axes>"
      ]
     },
     "metadata": {
      "needs_background": "light"
     },
     "output_type": "display_data"
    }
   ],
   "source": [
    "import matplotlib.pyplot as plt\n",
    "\n",
    "plt.plot(months, w1cw11, marker='o', markerfacecolor='blue', markersize=12, color='skyblue', label=\"toto\")\n",
    "plt.plot(months, w1cw12, data=df, marker='', color='olive', linewidth=2, label=\"toto\")\n",
    "plt.plot(months, w1cw13, data=df, marker='', color='olive', linewidth=2, linestyle='dashed', label=\"toto\")\n",
    "plt.plot(months, w1cw14, data=df, marker='', color='olive', linewidth=2, label=\"toto\")\n",
    "plt.plot(months, w1cw15, data=df, marker='', color='olive', linewidth=2, linestyle='dashed', label=\"toto\")\n",
    "plt.legend()\n",
    "plt.title()\n",
    "plt.show()"
   ]
  },
  {
   "cell_type": "code",
   "execution_count": null,
   "metadata": {},
   "outputs": [],
   "source": []
  },
  {
   "cell_type": "code",
   "execution_count": null,
   "metadata": {},
   "outputs": [],
   "source": []
  }
 ],
 "metadata": {
  "kernelspec": {
   "display_name": "Python 3",
   "language": "python",
   "name": "python3"
  },
  "language_info": {
   "codemirror_mode": {
    "name": "ipython",
    "version": 3
   },
   "file_extension": ".py",
   "mimetype": "text/x-python",
   "name": "python",
   "nbconvert_exporter": "python",
   "pygments_lexer": "ipython3",
   "version": "3.7.4"
  }
 },
 "nbformat": 4,
 "nbformat_minor": 2
}
