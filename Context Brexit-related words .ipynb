{
 "cells": [
  {
   "cell_type": "code",
   "execution_count": 1,
   "metadata": {},
   "outputs": [],
   "source": [
    "setofbrexitwords = [\"Brexit\",\"Article 50\", \"Article 49\", \"ANPR\", \"Hard Brexit\", \"CTA\", \"Common Travel Area\", \n",
    "                    \"Customs Union\", \"EUCU\", \"EEA\", \"European Economic Area\", \"Free Trade Agreement\", \"Hard Border\",\n",
    "                    \"Schengen Area\",\"Single Market\"]"
   ]
  },
  {
   "cell_type": "code",
   "execution_count": 2,
   "metadata": {},
   "outputs": [
    {
     "name": "stdout",
     "output_type": "stream",
     "text": [
      "2016-05-26 2019-11-04\n"
     ]
    }
   ],
   "source": [
    "fh = open(\"Dates/dates.txt\", \"r\", encoding=\"UTF-8\") \n",
    "x = list(fh)[0].split(\",\")\n",
    "dates=[y[2:-1] for y in x]\n",
    "print(dates[0], dates[-1])"
   ]
  },
  {
   "cell_type": "code",
   "execution_count": 3,
   "metadata": {},
   "outputs": [],
   "source": [
    "from itertools import permutations\n",
    "from collections import Counter\n",
    "import os"
   ]
  },
  {
   "cell_type": "code",
   "execution_count": 4,
   "metadata": {},
   "outputs": [
    {
     "name": "stdout",
     "output_type": "stream",
     "text": [
      " | Data Protection |  Jobs | Using this website |  Copyright     © Parliamentary Copyright          \n"
     ]
    }
   ],
   "source": [
    "for date in dates:\n",
    "    path=\"Dates/\"+date\n",
    "    f = open(path, \"r\", encoding=\"UTF-8\") \n",
    "print(', '.join(f)[-100:])"
   ]
  },
  {
   "cell_type": "markdown",
   "metadata": {},
   "source": [
    "This is the text used for testing"
   ]
  },
  {
   "cell_type": "code",
   "execution_count": 5,
   "metadata": {},
   "outputs": [],
   "source": [
    "sampletxt=\".     Angela Smith (Penistone and Stocksbridge) (Lab)       Share       It is a pleasure to follow the hon. Member for Eastleigh (Mims Davies). I echo many of the comments about the economy made by my hon. Friends on the Front Bench, particularly in relation to productivity, with the latest figures showing the largest quarterly fall since 2008. I acknowledge that the Government have issued a challenge to areas such as mine to play their part in tackling the productivity and economic growth gap by developing devolution in the form of the northern powerhouse. I for one accept that challenge. I accept that Sheffield city region has to raise its game. We have to play our part and believe in ourselves, which we have not done for a very long time. Quite simply—as one employer said to me today in an email—we must believe that we have the skills, knowledge and ability to surpass London and become a generator of great wealth again. However, the Government must play their part too, and at the moment they are not doing so. The announcement today about the Department for Business, Innovation and Skills and the relocation of staff from Sheffield to London belies everything that the Government have said on this point, but they can remedy the situation. I will be watching carefully the development of the infrastructure plan. In particular, I will be looking for confirmation that the new trans-Pennine links between Manchester and Sheffield will be given the green light, as they are essential to the future of the northern economy. I will keep up the pressure on the Government to support a positive outcome to the steel crisis. Funnily enough, the crisis in South Yorkshire has triggered a revival in the faith and the confidence that we used to have in ourselves and in our engineering prowess. My plea to the Government today is: please do not let us down. We believe that we are the best steel producers in the world. If the Government believe in us, we will deliver. Let me turn now to the biggest threat facing the economy in the next few years—the instability that is currently characterising our political system. Let us be clear about this: in the UK, politics is polarising. We know that it is happening on the Labour Benches, as we have shifted to the left. On the Government Benches, Brexit is tearing the Conservative party apart, and the centre ground is disappearing before our very eyes. What on earth happened to the politics of the art of the possible? This movement is happening globally. In some countries, the polarisation is even greater. One has to look only at Austria last week and at Holland, where the three mainstream parties are set to secure, in total, just 40% in the elections next year. As we have seen, even the US is not immune from the phenomenon. Globalisation is one of the main causes of the situation. I echo the words of Mr Blair who said today that the problem of the centre ground was that it looks “as if we are managers of the status quo and not changers of it”. It is a worrying trend, and polarisation of the political sphere is creating a vacuum that could visit lasting damage on the social and economic fabric of this country. We bear a responsibility to resurrect the relevance of pragmatic politics. We need to demonstrate that centre-ground politics can deliver a progressive, prosperous and secure future for the people of this country. If we do not do that, the future of this country and its economy is very much in danger.     Share           2.43 pm        The edit just \""
   ]
  },
  {
   "cell_type": "code",
   "execution_count": 6,
   "metadata": {},
   "outputs": [
    {
     "data": {
      "text/plain": [
       "'.     Angela Smith (Penistone and Stocksbridge) (Lab)       Share       It is a pleasure to follow the hon. Member for Eastleigh (Mims Davies). I echo many of the comments about the economy made by my hon. Friends on the Front Bench, particularly in relation to productivity, with the latest figures '"
      ]
     },
     "execution_count": 6,
     "metadata": {},
     "output_type": "execute_result"
    }
   ],
   "source": [
    "sampletxt[:300]"
   ]
  },
  {
   "cell_type": "markdown",
   "metadata": {},
   "source": [
    "This is a function to save all sentences of a file in a list"
   ]
  },
  {
   "cell_type": "code",
   "execution_count": 7,
   "metadata": {},
   "outputs": [
    {
     "name": "stdout",
     "output_type": "stream",
     "text": [
      "179\n"
     ]
    }
   ],
   "source": [
    "import nltk\n",
    "from nltk.corpus import stopwords\n",
    "from collections import Counter\n",
    "s=set(stopwords.words('english'))\n",
    "\n",
    "print(len(s))"
   ]
  },
  {
   "cell_type": "code",
   "execution_count": 8,
   "metadata": {},
   "outputs": [],
   "source": [
    "def savesent(text):\n",
    "    lst = []\n",
    "    lot = [i for i in list(text.split(\" \")) if i != \"\"]\n",
    "    lot = [i for i in lot if i.lower() not in s]\n",
    "    sent=\"\"\n",
    "    for i in lot:\n",
    "        if i[-1] not in (\".\", \"!\", \"?\"):\n",
    "            sent+=i\n",
    "            sent+=\" \"\n",
    "        else:\n",
    "            sent+=i\n",
    "            lst.append(sent)\n",
    "            sent=\"\"\n",
    "    return lst\n",
    "    "
   ]
  },
  {
   "cell_type": "code",
   "execution_count": 9,
   "metadata": {},
   "outputs": [],
   "source": [
    "f = open(\"Dates/2016-05-26\", \"r\", encoding=\"UTF-8\") \n",
    "file=', '.join(f)\n",
    "sentences = savesent(file)"
   ]
  },
  {
   "cell_type": "code",
   "execution_count": 10,
   "metadata": {},
   "outputs": [
    {
     "data": {
      "text/plain": [
       "['Cookies: use cookies give best possible experience site.',\n",
       " 'continuing use site you\\n, \\n, agree use cookies.',\n",
       " 'Find OK UK Parliament Parliamentary Business MPs, Lords Offices Parliament Get Involved Visit Education Toggle navigation Menu Hansard Hansard Commons Latest Sitting Browse Sittings Find Debates Find Divisions Find MPs Lords Latest Sitting Browse Sittings Find Debates Find Divisions Find Peers Hansard Online Previous Top Next House Commons Hansard x Contents Commons Chamber Text Back Contents Previous Coal Authority (Compensation Procedures) Share 26 May 2016 Volume 611 Motion made, Question proposed, House adjourn.',\n",
       " '—(Stephen Barclay.) 5.41 pm edit sent saved.',\n",
       " 'following error returned: content already edited awaiting review.',\n",
       " 'Mr Adrian Bailey (West Bromwich West) (Lab/Co-op) Share rise discuss case constituents, Mr Mrs King No.',\n",
       " '61 Myrtle Terrace, Tipton, Mrs Freeman No.',\n",
       " '59, Mr Mrs Shaw No.',\n",
       " '57, purchased homes 1975 1980.',\n",
       " 'Prior purchasing homes, condition receipt mortgage, required search mine shafts immediate vicinity properties.']"
      ]
     },
     "execution_count": 10,
     "metadata": {},
     "output_type": "execute_result"
    }
   ],
   "source": [
    "sentences[:10]"
   ]
  },
  {
   "cell_type": "code",
   "execution_count": 11,
   "metadata": {},
   "outputs": [],
   "source": [
    "extrastopwords=[\"would\", \"could\", \"us\", \"share\"]\n",
    "for w in extrastopwords:\n",
    "    s.add(w)"
   ]
  },
  {
   "cell_type": "markdown",
   "metadata": {},
   "source": [
    "This counts all cooccurances of our top 5 brexit words per file"
   ]
  },
  {
   "cell_type": "code",
   "execution_count": 108,
   "metadata": {},
   "outputs": [],
   "source": [
    "words = [\"brexit\", \"anpr\", \"cta\", \"eea\", \"schengen\"]\n",
    "spansize = 5\n",
    "cooccsw1 = Counter()\n",
    "cooccsw2 = Counter()\n",
    "cooccsw3 = Counter()\n",
    "cooccsw4 = Counter()\n",
    "cooccsw5 = Counter()\n",
    "\n",
    "def allcooccs(text, date=True):\n",
    "    sentences = savesent(text)\n",
    "    for sentence in sentences:\n",
    "        lowords = sentence.split(\" \")\n",
    "        for i in range(0, len(lowords)):\n",
    "            w=lowords[i].lower()\n",
    "            for x in  (\".\", \"!\", \"?\"):\n",
    "                if x in w:\n",
    "                    j=w.find(x)\n",
    "                    l=len(w)\n",
    "                    w=w[:j-l]\n",
    "                    \n",
    "            if w in words:\n",
    "                span_range = list(range(max(i-spansize, 0), i))\n",
    "                \n",
    "                span_range.extend(range(i+1, min(i + spansize + 1, len(lowords))))\n",
    "                \n",
    "                try:\n",
    "                    for cw in [lowords[idx] for idx in span_range]:\n",
    "                        if w == words[0]:\n",
    "                            cooccsw1[(w, cw)] += 1\n",
    "                        if w == words[1]:\n",
    "                            cooccsw2[(w, cw)] += 1\n",
    "                        if w == words[2]:\n",
    "                            cooccsw3[(w, cw)] += 1\n",
    "                        if w == words[3]:\n",
    "                            cooccsw4[(w, cw)] += 1\n",
    "                        if w == words[4]:\n",
    "                            cooccsw5[(w, cw)] += 1\n",
    "                except IndexError:\n",
    "                    print(\"word\", w, \"span\", span_range, date)\n",
    "                    \n",
    "    return cooccsw1,cooccsw2,cooccsw3,cooccsw4,cooccsw5"
   ]
  },
  {
   "cell_type": "code",
   "execution_count": 109,
   "metadata": {},
   "outputs": [
    {
     "name": "stdout",
     "output_type": "stream",
     "text": [
      "[(('brexit', 'last'), 1)] [] [] [] []\n"
     ]
    }
   ],
   "source": [
    "allcooccs(\"Will this be the last Brexit?\")\n",
    "\n",
    "print(cooccsw1.most_common(5), cooccsw2.most_common(5), cooccsw3.most_common(5), cooccsw4.most_common(5),cooccsw5.most_common(5))"
   ]
  },
  {
   "cell_type": "code",
   "execution_count": 111,
   "metadata": {},
   "outputs": [
    {
     "name": "stdout",
     "output_type": "stream",
     "text": [
      "2016-05-26\n",
      "2016-06-06\n",
      "2016-06-07\n",
      "2016-06-08\n",
      "2016-06-09\n",
      "2016-06-13\n",
      "2016-06-14\n",
      "2016-06-15\n",
      "2016-06-20\n",
      "2016-06-27\n",
      "2016-06-28\n",
      "2016-06-29\n",
      "2016-06-30\n",
      "2016-07-04\n",
      "2016-07-05\n",
      "2016-07-06\n",
      "2016-07-07\n",
      "2016-07-11\n",
      "2016-07-12\n",
      "2016-07-13\n",
      "2016-07-14\n",
      "2016-07-18\n",
      "2016-07-19\n",
      "2016-07-20\n",
      "2016-07-21\n",
      "2016-09-05\n",
      "2016-09-06\n",
      "2016-09-07\n",
      "2016-09-08\n",
      "2016-09-12\n",
      "2016-09-13\n",
      "2016-09-14\n",
      "2016-09-15\n",
      "2016-10-10\n",
      "2016-10-11\n",
      "2016-10-12\n",
      "2016-10-13\n",
      "2016-10-17\n",
      "2016-10-18\n",
      "2016-10-19\n",
      "2016-10-20\n",
      "2016-10-24\n",
      "2016-10-21\n",
      "2016-10-25\n",
      "2016-10-26\n",
      "2016-10-27\n",
      "2016-10-31\n",
      "2016-10-28\n",
      "2016-11-01\n",
      "2016-11-02\n",
      "2016-11-03\n",
      "2016-11-04\n",
      "2016-11-07\n",
      "2016-11-08\n",
      "2016-11-14\n",
      "2016-11-15\n",
      "2016-11-16\n",
      "2016-11-17\n",
      "2016-11-21\n",
      "2016-11-18\n",
      "2016-11-22\n",
      "2016-11-23\n",
      "2016-11-24\n",
      "2016-11-28\n",
      "2016-11-25\n",
      "2016-11-29\n",
      "2016-11-30\n",
      "2016-12-01\n",
      "2016-12-05\n",
      "2016-12-02\n",
      "2016-12-06\n",
      "2016-12-07\n",
      "2016-12-08\n",
      "2016-12-12\n",
      "2016-12-13\n",
      "2016-12-14\n",
      "2016-12-15\n",
      "2016-12-16\n",
      "2016-12-19\n",
      "2016-12-20\n",
      "2017-01-09\n",
      "2017-01-10\n",
      "2017-01-11\n",
      "2017-01-12\n",
      "2017-01-13\n",
      "2017-01-16\n",
      "2017-01-17\n",
      "2017-01-18\n",
      "2017-01-19\n",
      "2017-01-23\n",
      "2017-01-20\n",
      "2017-01-24\n",
      "2017-01-25\n",
      "2017-01-26\n",
      "2017-01-30\n",
      "2017-01-27\n",
      "2017-01-31\n",
      "2017-02-01\n",
      "2017-02-02\n",
      "2017-02-06\n",
      "2017-02-03\n",
      "2017-02-07\n",
      "2017-02-08\n",
      "2017-02-09\n",
      "2017-02-20\n",
      "2017-02-21\n",
      "2017-02-22\n",
      "2017-02-23\n",
      "2017-02-27\n",
      "2017-02-24\n",
      "2017-02-28\n",
      "2017-03-01\n",
      "2017-03-02\n",
      "2017-03-06\n",
      "2017-03-07\n",
      "2017-03-08\n",
      "2017-03-09\n",
      "2017-03-13\n",
      "2017-03-14\n",
      "2017-03-15\n",
      "2017-03-16\n",
      "2017-03-20\n",
      "2017-03-21\n",
      "2017-03-22\n",
      "2017-03-23\n",
      "2017-03-24\n",
      "2017-03-27\n",
      "2017-03-28\n",
      "2017-03-29\n",
      "2017-03-30\n",
      "2017-04-18\n",
      "2017-04-19\n",
      "2017-04-20\n",
      "2017-04-24\n",
      "2017-04-25\n",
      "2017-04-26\n",
      "2017-04-27\n",
      "2017-06-14\n",
      "2017-06-13\n",
      "2017-06-22\n",
      "2017-06-21\n",
      "2017-06-15\n",
      "2017-06-27\n",
      "2017-06-26\n",
      "2017-06-28\n",
      "2017-06-29\n",
      "2017-07-03\n",
      "2017-07-04\n",
      "2017-07-05\n",
      "2017-07-06\n",
      "2017-07-10\n",
      "2017-07-11\n",
      "2017-07-12\n",
      "2017-07-13\n",
      "2017-07-17\n",
      "2017-07-18\n",
      "2017-07-19\n",
      "2017-07-20\n",
      "2017-09-05\n",
      "2017-09-06\n",
      "2017-09-07\n",
      "2017-09-11\n",
      "2017-09-12\n",
      "2017-09-13\n",
      "2017-09-14\n",
      "2017-10-09\n",
      "2017-10-10\n",
      "2017-10-11\n",
      "2017-10-12\n",
      "2017-10-16\n",
      "2017-10-17\n",
      "2017-10-18\n",
      "2017-10-19\n",
      "2017-10-23\n",
      "2017-10-20\n",
      "2017-10-24\n",
      "2017-10-25\n",
      "2017-10-26\n",
      "2017-10-30\n",
      "2017-10-31\n",
      "2017-11-01\n",
      "2017-11-02\n",
      "2017-11-06\n",
      "2017-11-03\n",
      "2017-11-07\n",
      "2017-11-13\n",
      "2017-11-14\n",
      "2017-11-15\n",
      "2017-11-16\n",
      "2017-11-20\n",
      "2017-11-21\n",
      "2017-11-22\n",
      "2017-11-23\n",
      "2017-11-27\n",
      "2017-11-28\n",
      "2017-11-29\n",
      "2017-11-30\n",
      "2017-12-04\n",
      "2017-12-01\n",
      "2017-12-05\n",
      "2017-12-06\n",
      "2017-12-07\n",
      "2017-12-11\n",
      "2017-12-12\n",
      "2017-12-13\n",
      "2017-12-14\n",
      "2017-12-18\n",
      "2017-12-19\n",
      "2017-12-20\n",
      "2017-12-21\n",
      "2018-01-08\n",
      "2018-01-09\n",
      "2018-01-10\n",
      "2018-01-11\n",
      "2018-01-15\n",
      "2018-01-16\n",
      "2018-01-17\n",
      "2018-01-18\n",
      "2018-01-19\n",
      "2018-01-22\n",
      "2018-01-23\n",
      "2018-01-24\n",
      "2018-01-25\n",
      "2018-01-29\n",
      "2018-01-30\n",
      "2018-01-31\n",
      "2018-02-01\n",
      "2018-02-02\n",
      "2018-02-05\n",
      "2018-02-06\n",
      "2018-02-07\n",
      "2018-02-08\n",
      "2018-02-20\n",
      "2018-02-21\n",
      "2018-02-22\n",
      "2018-02-23\n",
      "2018-02-26\n",
      "2018-02-27\n",
      "2018-02-28\n",
      "2018-03-01\n",
      "2018-03-05\n",
      "2018-03-06\n",
      "2018-03-07\n",
      "2018-03-08\n",
      "2018-03-12\n",
      "2018-03-13\n",
      "2018-03-14\n",
      "2018-03-15\n",
      "2018-03-19\n",
      "2018-03-16\n",
      "2018-03-20\n",
      "2018-03-21\n",
      "2018-03-22\n",
      "2018-03-26\n",
      "2018-03-27\n",
      "2018-03-28\n",
      "2018-03-29\n",
      "2018-04-16\n",
      "2018-04-17\n",
      "2018-04-18\n",
      "2018-04-19\n",
      "2018-04-23\n",
      "2018-04-24\n",
      "2018-04-25\n",
      "2018-04-26\n",
      "2018-04-30\n",
      "2018-04-27\n",
      "2018-05-01\n",
      "2018-05-02\n",
      "2018-05-03\n",
      "2018-05-08\n",
      "2018-05-09\n",
      "2018-05-10\n",
      "2018-05-11\n",
      "2018-05-14\n",
      "2018-05-15\n",
      "2018-05-16\n",
      "2018-05-17\n",
      "2018-05-21\n",
      "2018-05-22\n",
      "2018-05-23\n",
      "2018-05-24\n",
      "2018-06-04\n",
      "2018-06-05\n",
      "2018-06-06\n",
      "2018-06-07\n",
      "2018-06-11\n",
      "2018-06-12\n",
      "2018-06-13\n",
      "2018-06-14\n",
      "2018-06-18\n",
      "2018-06-15\n",
      "2018-06-19\n",
      "2018-06-20\n",
      "2018-06-21\n",
      "2018-06-25\n",
      "2018-06-26\n",
      "2018-06-27\n",
      "2018-06-28\n",
      "2018-07-02\n",
      "2018-07-03\n",
      "2018-07-04\n",
      "2018-07-05\n",
      "2018-07-06\n",
      "2018-07-09\n",
      "2018-07-10\n",
      "2018-07-11\n",
      "2018-07-12\n",
      "2018-07-16\n",
      "2018-07-17\n",
      "2018-07-18\n",
      "2018-07-19\n",
      "2018-07-23\n",
      "2018-07-24\n",
      "2018-09-04\n",
      "2018-09-05\n",
      "2018-09-06\n",
      "2018-09-10\n",
      "2018-09-11\n",
      "2018-09-12\n",
      "2018-09-13\n",
      "2018-10-09\n",
      "2018-10-10\n",
      "2018-10-11\n",
      "2018-10-15\n",
      "2018-10-16\n",
      "2018-10-17\n",
      "2018-10-18\n",
      "2018-10-22\n",
      "2018-10-23\n",
      "2018-10-24\n",
      "2018-10-25\n",
      "2018-10-29\n",
      "2018-10-26\n",
      "2018-10-30\n",
      "2018-10-31\n",
      "2018-11-01\n",
      "2018-11-05\n",
      "2018-11-06\n",
      "2018-11-12\n",
      "2018-11-13\n",
      "2018-11-14\n",
      "2018-11-15\n",
      "2018-11-19\n",
      "2018-11-20\n",
      "2018-11-21\n",
      "2018-11-22\n",
      "2018-11-26\n",
      "2018-11-23\n",
      "2018-11-27\n",
      "2018-11-28\n",
      "2018-11-29\n",
      "2018-12-03\n",
      "2018-12-04\n",
      "2018-12-05\n",
      "2018-12-06\n",
      "2018-12-10\n",
      "2018-12-11\n",
      "2018-12-12\n",
      "2018-12-13\n",
      "2018-12-17\n",
      "2018-12-18\n",
      "2018-12-19\n",
      "2018-12-20\n",
      "2019-01-07\n",
      "2019-01-08\n",
      "2019-01-09\n",
      "2019-01-10\n",
      "2019-01-14\n",
      "2019-01-11\n",
      "2019-01-15\n",
      "2019-01-16\n",
      "2019-01-17\n",
      "2019-01-21\n",
      "2019-01-22\n",
      "2019-01-23\n",
      "2019-01-24\n",
      "2019-01-28\n",
      "2019-01-29\n",
      "2019-01-30\n",
      "2019-01-31\n",
      "2019-02-04\n",
      "2019-02-05\n",
      "2019-02-06\n",
      "2019-02-07\n",
      "2019-02-08\n",
      "2019-02-11\n",
      "2019-02-12\n",
      "2019-02-13\n",
      "2019-02-14\n",
      "2019-02-18\n",
      "2019-02-19\n",
      "2019-02-20\n",
      "2019-02-21\n",
      "2019-02-25\n",
      "2019-02-26\n",
      "2019-02-27\n",
      "2019-02-28\n",
      "2019-03-04\n",
      "2019-03-05\n",
      "2019-03-06\n",
      "2019-03-07\n",
      "2019-03-11\n",
      "2019-03-12\n",
      "2019-03-13\n",
      "2019-03-14\n",
      "2019-03-18\n",
      "2019-03-15\n",
      "2019-03-19\n",
      "2019-03-20\n",
      "2019-03-21\n",
      "2019-03-22\n",
      "2019-03-25\n",
      "2019-03-26\n",
      "2019-03-27\n",
      "2019-03-28\n",
      "2019-03-29\n",
      "2019-04-01\n",
      "2019-04-02\n",
      "2019-04-03\n",
      "2019-04-04\n",
      "2019-04-08\n",
      "2019-04-09\n",
      "2019-04-10\n",
      "2019-04-11\n",
      "2019-04-23\n",
      "2019-04-24\n",
      "2019-04-25\n",
      "2019-04-29\n",
      "2019-04-30\n",
      "2019-05-01\n",
      "2019-05-02\n",
      "2019-05-07\n",
      "2019-05-08\n",
      "2019-05-09\n",
      "2019-05-13\n",
      "2019-05-14\n",
      "2019-05-15\n",
      "2019-05-16\n",
      "2019-05-20\n",
      "2019-05-21\n",
      "2019-05-22\n",
      "2019-05-23\n",
      "2019-06-04\n",
      "2019-06-05\n",
      "2019-06-06\n",
      "2019-06-10\n",
      "2019-06-11\n",
      "2019-06-12\n",
      "2019-06-13\n",
      "2019-06-17\n",
      "2019-06-18\n",
      "2019-06-19\n",
      "2019-06-20\n",
      "2019-06-24\n",
      "2019-06-25\n",
      "2019-06-26\n",
      "2019-06-27\n",
      "2019-07-01\n",
      "2019-07-02\n",
      "2019-07-03\n",
      "2019-07-04\n",
      "2019-07-08\n",
      "2019-07-09\n",
      "2019-07-10\n",
      "2019-07-11\n",
      "2019-07-15\n",
      "2019-07-16\n",
      "2019-07-17\n",
      "2019-07-18\n",
      "2019-07-22\n",
      "2019-07-23\n",
      "2019-07-24\n",
      "2019-07-25\n",
      "2019-09-03\n",
      "2019-09-04\n",
      "2019-09-05\n",
      "2019-09-09\n",
      "2019-09-26\n",
      "2019-09-25\n",
      "2019-09-30\n",
      "2019-10-01\n",
      "2019-10-02\n",
      "2019-10-03\n",
      "2019-10-07\n",
      "2019-10-08\n",
      "2019-10-14\n",
      "2019-10-15\n",
      "2019-10-17\n",
      "2019-10-16\n",
      "2019-10-21\n",
      "2019-10-19\n",
      "2019-10-22\n",
      "2019-10-23\n",
      "2019-10-24\n",
      "2019-10-28\n",
      "2019-10-29\n",
      "2019-10-30\n",
      "2019-10-31\n",
      "2019-11-05\n",
      "2019-11-04\n"
     ]
    }
   ],
   "source": [
    "#counting coocurances for all files\n",
    "for date in dates:\n",
    "    print(date)\n",
    "    path=\"Dates/\"+date\n",
    "    f = open(path, \"r\", encoding=\"UTF-8\") \n",
    "    file = (', '.join(f))\n",
    "    allcooccs(file, date)"
   ]
  },
  {
   "cell_type": "code",
   "execution_count": 117,
   "metadata": {},
   "outputs": [
    {
     "name": "stdout",
     "output_type": "stream",
     "text": [
      "brexit no-deal\n",
      "6549\n"
     ]
    }
   ],
   "source": [
    "print(words[0], d[words[0]][0])\n",
    "print(cooccsw1[(words[0], d[words[0]][0])])"
   ]
  },
  {
   "cell_type": "code",
   "execution_count": 107,
   "metadata": {},
   "outputs": [
    {
     "data": {
      "text/plain": [
       "[]"
      ]
     },
     "execution_count": 107,
     "metadata": {},
     "output_type": "execute_result"
    }
   ],
   "source": [
    "cooccsw1.most_common(10)\n",
    "cooccsw2.most_common(10)\n",
    "cooccsw3.most_common(10)\n",
    "cooccsw4.most_common(10)\n",
    "cooccsw5.most_common(10)"
   ]
  },
  {
   "cell_type": "code",
   "execution_count": 37,
   "metadata": {},
   "outputs": [],
   "source": [
    "#puts the top 5 cooccuring words as values to the centre words\n",
    "d={}\n",
    "\n",
    "d[words[0]]=[x[0][1] for x in cooccsw1.most_common(10)]\n",
    "d[words[1]]=[x[0][1] for x in cooccsw2.most_common(10)]\n",
    "d[words[2]]=[x[0][1] for x in cooccsw3.most_common(10)]\n",
    "d[words[3]]=[x[0][1] for x in cooccsw4.most_common(10)]\n",
    "d[words[4]]=[x[0][1] for x in cooccsw5.most_common(10)]"
   ]
  },
  {
   "cell_type": "code",
   "execution_count": 49,
   "metadata": {},
   "outputs": [
    {
     "data": {
      "text/plain": [
       "'no-deal'"
      ]
     },
     "execution_count": 49,
     "metadata": {},
     "output_type": "execute_result"
    }
   ],
   "source": [
    "d[\"brexit\"][0]"
   ]
  },
  {
   "cell_type": "code",
   "execution_count": 39,
   "metadata": {},
   "outputs": [],
   "source": [
    "lstw1=[cooccsw1[(words[0], x)] for x in d[words[0]]]\n",
    "lstw2=[cooccsw2[(words[1], x)] for x in d[words[1]]]\n",
    "lstw3=[cooccsw3[(words[2], x)] for x in d[words[2]]]\n",
    "lstw4=[cooccsw4[(words[3], x)] for x in d[words[3]]]\n",
    "lstw5=[cooccsw5[(words[4], x)] for x in d[words[4]]]"
   ]
  },
  {
   "cell_type": "code",
   "execution_count": 40,
   "metadata": {},
   "outputs": [
    {
     "name": "stdout",
     "output_type": "stream",
     "text": [
      "[3961, 2904, 2868, 2077, 2026, 1796, 1710, 1705, 1646, 1640]\n"
     ]
    }
   ],
   "source": [
    "print(lstw1)"
   ]
  },
  {
   "cell_type": "code",
   "execution_count": 41,
   "metadata": {},
   "outputs": [
    {
     "data": {
      "image/png": "[encoded data removed]",
      "text/plain": [
       "<Figure size 432x288 with 1 Axes>"
      ]
     },
     "metadata": {
      "needs_background": "light"
     },
     "output_type": "display_data"
    },
    {
     "data": {
      "image/png": "[encoded data removed]",
      "text/plain": [
       "<Figure size 432x288 with 1 Axes>"
      ]
     },
     "metadata": {
      "needs_background": "light"
     },
     "output_type": "display_data"
    },
    {
     "data": {
      "image/png": "[encoded data removed]",
      "text/plain": [
       "<Figure size 432x288 with 1 Axes>"
      ]
     },
     "metadata": {
      "needs_background": "light"
     },
     "output_type": "display_data"
    },
    {
     "data": {
      "image/png": "[encoded data removed]",
      "text/plain": [
       "<Figure size 432x288 with 1 Axes>"
      ]
     },
     "metadata": {
      "needs_background": "light"
     },
     "output_type": "display_data"
    },
    {
     "data": {
      "image/png": "[encoded data removed]",
      "text/plain": [
       "<Figure size 432x288 with 1 Axes>"
      ]
     },
     "metadata": {
      "needs_background": "light"
     },
     "output_type": "display_data"
    }
   ],
   "source": [
    "import matplotlib.pyplot as plt\n",
    "\n",
    "v1 = lstw1#list values\n",
    "k1 = d[words[0]]#list keys\n",
    "\n",
    "v2 = lstw2#list values\n",
    "k2 = d[words[1]]#list keys\n",
    "\n",
    "v3 = lstw3#list values\n",
    "k3 = d[words[2]]#list keys\n",
    "\n",
    "v4 = lstw4#list values\n",
    "k4 = d[words[3]]#list keys\n",
    "\n",
    "v5 = lstw5#list values\n",
    "k5 = d[words[4]]#list keys\n",
    "        \n",
    "plt.bar(k1, v1)\n",
    "plt.title(words[0])\n",
    "plt.show()\n",
    "\n",
    "plt.bar(k2, v2)\n",
    "plt.title(words[1])\n",
    "plt.show()\n",
    "\n",
    "plt.bar(k3, v3)\n",
    "plt.title(words[2])\n",
    "plt.show()\n",
    "\n",
    "plt.bar(k4, v4)\n",
    "plt.title(words[3])\n",
    "plt.show()\n",
    "\n",
    "plt.bar(k5, v5)\n",
    "plt.title(words[4])\n",
    "plt.show()\n",
    "\n"
   ]
  },
  {
   "cell_type": "code",
   "execution_count": 51,
   "metadata": {},
   "outputs": [],
   "source": [
    "#now we will plot them over time\n",
    "def lstofmonths(start, finish):\n",
    "    lst=[start]\n",
    "    i=start\n",
    "    while i != finish:\n",
    "        if i[1]==12:\n",
    "            i=[i[0]+1, 1]\n",
    "        else:\n",
    "            i=[i[0], i[1]+1]\n",
    "        lst.append(i)\n",
    "    return lst\n",
    "    "
   ]
  },
  {
   "cell_type": "code",
   "execution_count": 52,
   "metadata": {},
   "outputs": [
    {
     "name": "stdout",
     "output_type": "stream",
     "text": [
      "[[2016, 5], [2016, 6], [2016, 7], [2016, 8], [2016, 9], [2016, 10], [2016, 11], [2016, 12], [2017, 1], [2017, 2], [2017, 3], [2017, 4], [2017, 5], [2017, 6], [2017, 7], [2017, 8], [2017, 9], [2017, 10], [2017, 11], [2017, 12], [2018, 1], [2018, 2], [2018, 3], [2018, 4], [2018, 5], [2018, 6], [2018, 7], [2018, 8], [2018, 9], [2018, 10], [2018, 11], [2018, 12], [2019, 1], [2019, 2], [2019, 3], [2019, 4], [2019, 5], [2019, 6], [2019, 7], [2019, 8], [2019, 9], [2019, 10], [2019, 11]]\n"
     ]
    }
   ],
   "source": [
    "months=lstofmonths([2016, 5],[2019, 11])\n",
    "print(months)"
   ]
  },
  {
   "cell_type": "code",
   "execution_count": 53,
   "metadata": {},
   "outputs": [
    {
     "name": "stdout",
     "output_type": "stream",
     "text": [
      "[2016, 5] [2016, 5]\n",
      "True\n"
     ]
    }
   ],
   "source": [
    "x = [int(i) for i in \"2016-05-26\".split(\"-\")[:-1]]\n",
    "print(x, months[0])\n",
    "print(x==months[0])"
   ]
  },
  {
   "cell_type": "code",
   "execution_count": 88,
   "metadata": {},
   "outputs": [],
   "source": [
    "def cooccsv1(filetxt, words, d):\n",
    "    sentences = savesent(filetxt)\n",
    "    for sentence in sentences:\n",
    "        lowords = sentence.split(\" \")\n",
    "        for i in range(0, len(lowords)):\n",
    "            w=lowords[i].lower()\n",
    "            for x in  (\".\", \"!\", \"?\"):\n",
    "                if x in w:\n",
    "                    j=w.find(x)\n",
    "                    l=len(w)\n",
    "                    w=w[:j-l]\n",
    "                    \n",
    "            if w in words:\n",
    "                span_range = list(range(max(i-spansize, 0), i))\n",
    "                \n",
    "                span_range.extend(range(i+1, min(i + spansize + 1, len(lowords))))\n",
    "                \n",
    "                for cw in [lowords[idx] for idx in span_range]:\n",
    "                    if w == words[0]:\n",
    "                        if cw in dict[words[0]]:\n",
    "                            cooccswm[(w, cw)] += 1\n",
    "                    if w == words[1]:\n",
    "                        if cw in dict[words[1]]:\n",
    "                            cooccswm[(w, cw)] += 1\n",
    "                    if w == words[2]:\n",
    "                        if cw in dict[words[2]]:\n",
    "                            cooccswm[(w, cw)] += 1\n",
    "                    if w == words[3]:\n",
    "                        if cw in dict[words[3]]:\n",
    "                            cooccswm[(w, cw)] += 1\n",
    "                    if w == words[4]:\n",
    "                        if cw in dict[words[4]]:\n",
    "                            cooccswm[(w, cw)] += 1\n",
    "    "
   ]
  },
  {
   "cell_type": "code",
   "execution_count": 89,
   "metadata": {},
   "outputs": [],
   "source": [
    "def cooccsv2(filetxt, words, d):\n",
    "    sentences = savesent(filetxt)\n",
    "    for sentence in sentences:\n",
    "        lowords = sentence.split(\" \")\n",
    "        for i in range(0, len(lowords)):\n",
    "            w=lowords[i].lower()\n",
    "            for x in  (\".\", \"!\", \"?\"):\n",
    "                if x in w:\n",
    "                    j=w.find(x)\n",
    "                    l=len(w)\n",
    "                    w=w[:j-l]\n",
    "                    \n",
    "            if w in words:\n",
    "                span_range = list(range(max(i-spansize, 0), i))\n",
    "                \n",
    "                span_range.extend(range(i+1, min(i + spansize + 1, len(lowords))))\n",
    "                \n",
    "                for cw in [lowords[idx] for idx in span_range]:\n",
    "                    if w == words[0]:\n",
    "                        if cw in dict[words[0]]:\n",
    "                            cooccsw1m[cw] += 1\n",
    "                    if w == words[1]:\n",
    "                        if cw in dict[words[1]]:\n",
    "                            cooccsw2m[cw] += 1\n",
    "                    if w == words[2]:\n",
    "                        if cw in dict[words[2]]:\n",
    "                            cooccsw3m[cw] += 1\n",
    "                    if w == words[3]:\n",
    "                        if cw in dict[words[3]]:\n",
    "                            cooccsw4m[cw] += 1\n",
    "                    if w == words[4]:\n",
    "                        if cw in dict[words[4]]:\n",
    "                            cooccsw5m[cw] += 1\n",
    "    "
   ]
  },
  {
   "cell_type": "code",
   "execution_count": 150,
   "metadata": {},
   "outputs": [
    {
     "name": "stdout",
     "output_type": "stream",
     "text": [
      "[0, 1, 2, 3, 4]\n"
     ]
    }
   ],
   "source": [
    "print([i for i in range(0,5)])"
   ]
  },
  {
   "cell_type": "code",
   "execution_count": 158,
   "metadata": {},
   "outputs": [
    {
     "name": "stdout",
     "output_type": "stream",
     "text": [
      "[2016, 5]\n",
      "[2016, 6]\n",
      "[2016, 7]\n",
      "[2016, 8]\n",
      "[2016, 9]\n",
      "[2016, 10]\n",
      "[2016, 11]\n",
      "[2016, 12]\n",
      "[2017, 1]\n",
      "[2017, 2]\n",
      "[2017, 3]\n",
      "[2017, 4]\n",
      "[2017, 5]\n",
      "[2017, 6]\n",
      "[2017, 7]\n",
      "[2017, 8]\n",
      "[2017, 9]\n",
      "[2017, 10]\n",
      "[2017, 11]\n",
      "[2017, 12]\n",
      "[2018, 1]\n",
      "[2018, 2]\n",
      "[2018, 3]\n",
      "[2018, 4]\n",
      "[2018, 5]\n",
      "[2018, 6]\n",
      "[2018, 7]\n",
      "[2018, 8]\n",
      "[2018, 9]\n",
      "[2018, 10]\n",
      "[2018, 11]\n",
      "[2018, 12]\n",
      "[2019, 1]\n",
      "[2019, 2]\n",
      "[2019, 3]\n",
      "[2019, 4]\n",
      "[2019, 5]\n",
      "[2019, 6]\n",
      "[2019, 7]\n",
      "[2019, 8]\n",
      "[2019, 9]\n",
      "[2019, 10]\n",
      "[2019, 11]\n",
      "[[[0, 0, 0, 0, 0, 0, 0, 0, 0, 0, 8, 0, 0, 0, 0, 0, 0, 44, 48, 8, 4, 26, 8, 0, 4, 14, 26, 0, 14, 87, 123, 233, 506, 546, 447, 144, 116, 292, 271, 0, 597, 393, 2], [1, 12, 34, 0, 46, 88, 72, 81, 62, 69, 95, 62, 0, 68, 38, 0, 50, 54, 160, 96, 66, 66, 88, 20, 58, 98, 136, 0, 30, 72, 99, 148, 193, 109, 155, 78, 69, 46, 37, 0, 92, 154, 2], [0, 6, 16, 0, 20, 26, 16, 18, 43, 33, 50, 28, 0, 56, 50, 0, 14, 60, 81, 78, 34, 30, 45, 20, 26, 78, 126, 0, 83, 154, 177, 308, 349, 121, 231, 92, 43, 18, 35, 0, 70, 233, 0], [0, 18, 37, 0, 34, 58, 30, 23, 48, 54, 33, 14, 0, 26, 38, 0, 28, 20, 48, 60, 34, 26, 44, 27, 18, 34, 62, 0, 30, 33, 92, 120, 214, 99, 218, 66, 53, 36, 37, 0, 112, 153, 0], [0, 14, 70, 0, 30, 75, 38, 32, 78, 51, 39, 40, 0, 34, 32, 0, 26, 36, 33, 88, 34, 22, 46, 0, 18, 48, 72, 0, 17, 42, 82, 127, 139, 121, 151, 58, 34, 54, 40, 0, 78, 123, 4]], [[0, 0, 0, 0, 0, 0, 0, 0, 0, 0, 0, 0, 0, 0, 0, 0, 0, 0, 0, 0, 0, 0, 8, 0, 0, 0, 0, 0, 0, 0, 2, 0, 0, 0, 0, 0, 0, 0, 0, 0, 0, 0, 0], [0, 0, 0, 0, 0, 0, 0, 0, 0, 0, 0, 0, 0, 0, 0, 0, 0, 0, 0, 0, 0, 0, 6, 0, 0, 0, 0, 0, 0, 2, 0, 0, 0, 0, 0, 0, 0, 0, 0, 0, 0, 0, 0], [0, 0, 0, 0, 0, 0, 0, 0, 0, 0, 0, 0, 0, 0, 0, 0, 0, 0, 0, 0, 0, 0, 6, 0, 0, 0, 0, 0, 0, 0, 2, 0, 0, 0, 0, 0, 0, 0, 0, 0, 0, 0, 0], [0, 0, 0, 0, 0, 0, 0, 0, 0, 0, 0, 0, 0, 0, 0, 0, 0, 0, 0, 0, 0, 0, 6, 0, 0, 0, 0, 0, 0, 0, 0, 0, 0, 0, 0, 0, 0, 0, 0, 0, 0, 0, 0], [0, 0, 0, 0, 0, 0, 0, 0, 0, 0, 0, 0, 0, 0, 0, 0, 0, 0, 0, 0, 0, 0, 0, 0, 0, 0, 0, 0, 0, 0, 2, 0, 0, 0, 0, 0, 0, 4, 0, 0, 0, 0, 0]], [[0, 2, 76, 0, 8, 0, 0, 0, 0, 0, 2, 0, 0, 0, 0, 0, 0, 0, 0, 0, 0, 0, 0, 0, 0, 0, 0, 0, 0, 0, 10, 0, 10, 2, 0, 0, 0, 0, 0, 0, 0, 0, 0], [0, 0, 28, 0, 6, 0, 0, 0, 0, 0, 0, 0, 0, 0, 0, 0, 0, 0, 0, 0, 0, 0, 0, 0, 0, 0, 0, 0, 0, 0, 0, 0, 6, 0, 0, 0, 0, 0, 0, 0, 0, 0, 0], [0, 0, 30, 0, 0, 0, 0, 0, 0, 0, 0, 0, 0, 0, 0, 0, 2, 4, 0, 0, 0, 0, 0, 0, 0, 0, 0, 0, 0, 0, 0, 0, 4, 0, 0, 0, 0, 0, 0, 0, 0, 0, 0], [0, 2, 20, 0, 0, 0, 0, 0, 0, 0, 0, 0, 0, 0, 0, 0, 2, 0, 0, 0, 0, 0, 0, 0, 0, 0, 0, 0, 0, 0, 0, 0, 6, 0, 0, 0, 0, 0, 0, 0, 0, 0, 0], [0, 0, 4, 0, 0, 0, 0, 0, 0, 0, 0, 0, 0, 0, 0, 0, 0, 0, 0, 0, 0, 0, 0, 0, 0, 0, 0, 0, 0, 0, 16, 0, 0, 0, 0, 0, 0, 0, 0, 0, 0, 0, 0]], [[0, 0, 2, 0, 0, 2, 4, 0, 2, 0, 0, 0, 0, 0, 0, 0, 14, 0, 92, 4, 2, 20, 6, 0, 0, 4, 4, 0, 0, 54, 57, 74, 142, 208, 157, 6, 15, 0, 0, 0, 3, 46, 0], [0, 0, 0, 0, 0, 0, 0, 0, 0, 0, 0, 0, 0, 0, 0, 0, 0, 0, 0, 0, 0, 0, 2, 0, 0, 4, 0, 0, 0, 0, 0, 0, 90, 150, 289, 0, 33, 0, 0, 0, 4, 11, 0], [0, 0, 0, 0, 0, 0, 0, 0, 0, 0, 0, 0, 0, 0, 0, 0, 4, 2, 2, 0, 0, 0, 0, 0, 0, 0, 0, 0, 2, 0, 6, 2, 28, 184, 294, 4, 6, 0, 0, 0, 0, 14, 0], [0, 0, 0, 0, 0, 2, 4, 0, 4, 0, 0, 0, 0, 0, 0, 0, 12, 4, 118, 0, 0, 2, 8, 0, 0, 16, 6, 0, 0, 3, 27, 6, 31, 38, 71, 6, 4, 2, 2, 0, 0, 37, 0], [0, 0, 0, 0, 0, 2, 0, 3, 0, 10, 18, 0, 0, 0, 0, 0, 12, 0, 74, 0, 0, 4, 0, 0, 0, 10, 4, 0, 0, 6, 10, 18, 24, 27, 42, 4, 6, 0, 0, 0, 0, 0, 0]], [[0, 10, 0, 0, 0, 0, 0, 0, 36, 0, 2, 0, 0, 2, 2, 0, 4, 2, 0, 16, 0, 0, 0, 0, 0, 4, 0, 0, 4, 0, 8, 8, 6, 3, 0, 0, 0, 0, 0, 0, 4, 6, 0], [0, 6, 0, 0, 0, 2, 3, 0, 12, 0, 9, 2, 0, 4, 0, 0, 0, 0, 0, 10, 0, 4, 2, 0, 2, 2, 0, 0, 0, 0, 4, 12, 11, 7, 0, 0, 0, 0, 0, 0, 0, 0, 0], [0, 6, 0, 0, 0, 0, 0, 0, 4, 0, 10, 0, 0, 2, 0, 0, 0, 4, 0, 24, 0, 4, 4, 0, 0, 0, 0, 0, 0, 0, 2, 6, 8, 2, 0, 0, 0, 0, 0, 0, 2, 2, 0], [0, 6, 0, 0, 0, 0, 0, 0, 2, 0, 6, 0, 0, 0, 0, 0, 0, 0, 0, 22, 0, 4, 2, 0, 0, 0, 0, 0, 0, 0, 2, 4, 8, 2, 0, 0, 0, 0, 0, 0, 0, 0, 0], [0, 0, 0, 0, 0, 0, 0, 0, 8, 0, 26, 0, 0, 0, 0, 0, 0, 4, 0, 6, 0, 0, 0, 0, 2, 0, 0, 0, 0, 0, 0, 0, 0, 2, 0, 2, 0, 0, 0, 0, 4, 0, 0]]]\n"
     ]
    }
   ],
   "source": [
    "loallcooccs=[[[],[],[],[],[]],[[],[],[],[],[]],[[],[],[],[],[]],[[],[],[],[],[]],[[],[],[],[],[]]]\n",
    "for m in months:\n",
    "    print(m)\n",
    "    cooccswm = Counter()\n",
    "    for date in dates:\n",
    "        name = [int(i) for i in date.split(\"-\")[:-1]]\n",
    "        if m == name:\n",
    "            \n",
    "            path=\"Dates/\"+date\n",
    "            f = open(path, \"r\", encoding=\"UTF-8\") \n",
    "            filetxt = (', '.join(f))\n",
    "            cooccsv1(filetxt, words, d)\n",
    "            \n",
    "    for ww in range(0, 5):\n",
    "        word=words[ww]\n",
    "        for cww in range(0,5):\n",
    "            coword=d[word][cww]\n",
    "            value=cooccswm[(word, coword)]\n",
    "            loallcooccs[ww][cww].append(value)\n",
    "            \n",
    "print(loallcooccs)"
   ]
  },
  {
   "cell_type": "code",
   "execution_count": 159,
   "metadata": {},
   "outputs": [],
   "source": [
    "w1cw11=loallcooccs[0][0]\n",
    "w1cw12=loallcooccs[0][1]\n",
    "w1cw13=loallcooccs[0][2]\n",
    "w1cw14=loallcooccs[0][3]\n",
    "w1cw15=loallcooccs[0][4]\n",
    "\n",
    "w2cw21=loallcooccs[1][0]\n",
    "w2cw22=loallcooccs[1][1]\n",
    "w2cw23=loallcooccs[1][2]\n",
    "w2cw24=loallcooccs[1][3]\n",
    "w2cw25=loallcooccs[1][4]\n",
    "\n",
    "w3cw31=loallcooccs[2][0]\n",
    "w3cw32=loallcooccs[2][1]\n",
    "w3cw33=loallcooccs[2][2]\n",
    "w3cw34=loallcooccs[2][3]\n",
    "w3cw35=loallcooccs[2][4]\n",
    "\n",
    "w4cw41=loallcooccs[3][0]\n",
    "w4cw42=loallcooccs[3][1]\n",
    "w4cw43=loallcooccs[3][2]\n",
    "w4cw44=loallcooccs[3][3]\n",
    "w4cw45=loallcooccs[3][4]\n",
    "\n",
    "w5cw51=loallcooccs[4][0]\n",
    "w5cw52=loallcooccs[4][1]\n",
    "w5cw53=loallcooccs[4][2]\n",
    "w5cw54=loallcooccs[4][3]\n",
    "w5cw55=loallcooccs[4][4]"
   ]
  },
  {
   "cell_type": "code",
   "execution_count": 160,
   "metadata": {},
   "outputs": [
    {
     "data": {
      "text/plain": [
       "43"
      ]
     },
     "execution_count": 160,
     "metadata": {},
     "output_type": "execute_result"
    }
   ],
   "source": [
    "len(loallcooccs[0][0])"
   ]
  },
  {
   "cell_type": "code",
   "execution_count": 161,
   "metadata": {},
   "outputs": [
    {
     "name": "stdout",
     "output_type": "stream",
     "text": [
      "[0, 0, 0, 0, 0, 0, 0, 0, 0, 0, 8, 0, 0, 0, 0, 0, 0, 44, 48, 8, 4, 26, 8, 0, 4, 14, 26, 0, 14, 87, 123, 233, 506, 546, 447, 144, 116, 292, 271, 0, 597, 393, 2]\n"
     ]
    }
   ],
   "source": [
    "print(w1cw11)"
   ]
  },
  {
   "cell_type": "code",
   "execution_count": 164,
   "metadata": {},
   "outputs": [
    {
     "data": {
      "image/png": "[encoded data removed]",
      "text/plain": [
       "<Figure size 432x288 with 1 Axes>"
      ]
     },
     "metadata": {
      "needs_background": "light"
     },
     "output_type": "display_data"
    },
    {
     "data": {
      "image/png": "[encoded data removed]",
      "text/plain": [
       "<Figure size 432x288 with 1 Axes>"
      ]
     },
     "metadata": {
      "needs_background": "light"
     },
     "output_type": "display_data"
    }
   ],
   "source": [
    "import matplotlib.pyplot as plt\n",
    "\n",
    "months1h=[str(x) for x in months[:30]]\n",
    "months2h=[str(x) for x in months[30:]]\n",
    "\n",
    "plt.plot(months1h, w1cw11[:30], marker='o', markerfacecolor='blue', markersize=12, color='skyblue', label=d[words[0]][0])\n",
    "plt.plot(months1h, w1cw12[:30], marker='', color='olive', linewidth=2, label=d[words[0]][1])\n",
    "plt.plot(months1h, w1cw13[:30], marker='', color='olive', linewidth=2, linestyle='dashed', label=d[words[0]][2])\n",
    "plt.plot(months1h, w1cw14[:30], marker='', color='olive', linewidth=2, label=d[words[0]][3])\n",
    "plt.plot(months1h, w1cw15[:30], marker='', color='olive', linewidth=2, linestyle='dashed', label=d[words[0]][4])\n",
    "\n",
    "plt.legend()\n",
    "plt.title(\"brexit co-occurances 1st half\")\n",
    "plt.show()\n",
    "\n",
    "plt.plot(months2h, w1cw11[30:], marker='o', markerfacecolor='blue', markersize=12, color='skyblue', label=d[words[0]][0])\n",
    "plt.plot(months2h, w1cw12[30:], marker='', color='olive', linewidth=2, label=d[words[0]][1])\n",
    "plt.plot(months2h, w1cw13[30:], marker='', color='olive', linewidth=2, linestyle='dashed', label=d[words[0]][2])\n",
    "plt.plot(months2h, w1cw14[30:], marker='', color='olive', linewidth=2, label=d[words[0]][3])\n",
    "plt.plot(months2h, w1cw15[30:], marker='', color='olive', linewidth=2, linestyle='dashed', label=d[words[0]][4])\n",
    "plt.legend()\n",
    "plt.title(\"brexit co-occurances 2nd half\")\n",
    "plt.show()"
   ]
  },
  {
   "cell_type": "code",
   "execution_count": null,
   "metadata": {},
   "outputs": [],
   "source": []
  },
  {
   "cell_type": "code",
   "execution_count": null,
   "metadata": {},
   "outputs": [],
   "source": []
  }
 ],
 "metadata": {
  "kernelspec": {
   "display_name": "Python 3",
   "language": "python",
   "name": "python3"
  },
  "language_info": {
   "codemirror_mode": {
    "name": "ipython",
    "version": 3
   },
   "file_extension": ".py",
   "mimetype": "text/x-python",
   "name": "python",
   "nbconvert_exporter": "python",
   "pygments_lexer": "ipython3",
   "version": "3.7.4"
  }
 },
 "nbformat": 4,
 "nbformat_minor": 2
}
