{
 "cells": [
  {
   "cell_type": "code",
   "execution_count": 1,
   "metadata": {},
   "outputs": [],
   "source": [
    "setofbrexitwords = [\"Brexit\",\"Article 50\", \"Article 49\", \"ANPR\", \"Hard Brexit\", \"CTA\", \"Common Travel Area\", \n",
    "                    \"Customs Union\", \"EUCU\", \"EEA\", \"European Economic Area\", \"Free Trade Agreement\", \"Hard Border\",\n",
    "                    \"Schengen Area\",\"Single Market\"]"
   ]
  },
  {
   "cell_type": "code",
   "execution_count": 35,
   "metadata": {},
   "outputs": [],
   "source": [
    "from itertools import permutations\n",
    "from collections import Counter\n",
    "import os"
   ]
  },
  {
   "cell_type": "code",
   "execution_count": null,
   "metadata": {},
   "outputs": [],
   "source": []
  },
  {
   "cell_type": "code",
   "execution_count": 36,
   "metadata": {},
   "outputs": [],
   "source": [
    "text=\".     Angela Smith (Penistone and Stocksbridge) (Lab)       Share       It is a pleasure to follow the hon. Member for Eastleigh (Mims Davies). I echo many of the comments about the economy made by my hon. Friends on the Front Bench, particularly in relation to productivity, with the latest figures showing the largest quarterly fall since 2008. I acknowledge that the Government have issued a challenge to areas such as mine to play their part in tackling the productivity and economic growth gap by developing devolution in the form of the northern powerhouse. I for one accept that challenge. I accept that Sheffield city region has to raise its game. We have to play our part and believe in ourselves, which we have not done for a very long time. Quite simply—as one employer said to me today in an email—we must believe that we have the skills, knowledge and ability to surpass London and become a generator of great wealth again. However, the Government must play their part too, and at the moment they are not doing so. The announcement today about the Department for Business, Innovation and Skills and the relocation of staff from Sheffield to London belies everything that the Government have said on this point, but they can remedy the situation. I will be watching carefully the development of the infrastructure plan. In particular, I will be looking for confirmation that the new trans-Pennine links between Manchester and Sheffield will be given the green light, as they are essential to the future of the northern economy. I will keep up the pressure on the Government to support a positive outcome to the steel crisis. Funnily enough, the crisis in South Yorkshire has triggered a revival in the faith and the confidence that we used to have in ourselves and in our engineering prowess. My plea to the Government today is: please do not let us down. We believe that we are the best steel producers in the world. If the Government believe in us, we will deliver. Let me turn now to the biggest threat facing the economy in the next few years—the instability that is currently characterising our political system. Let us be clear about this: in the UK, politics is polarising. We know that it is happening on the Labour Benches, as we have shifted to the left. On the Government Benches, Brexit is tearing the Conservative party apart, and the centre ground is disappearing before our very eyes. What on earth happened to the politics of the art of the possible? This movement is happening globally. In some countries, the polarisation is even greater. One has to look only at Austria last week and at Holland, where the three mainstream parties are set to secure, in total, just 40% in the elections next year. As we have seen, even the US is not immune from the phenomenon. Globalisation is one of the main causes of the situation. I echo the words of Mr Blair who said today that the problem of the centre ground was that it looks “as if we are managers of the status quo and not changers of it”. It is a worrying trend, and polarisation of the political sphere is creating a vacuum that could visit lasting damage on the social and economic fabric of this country. We bear a responsibility to resurrect the relevance of pragmatic politics. We need to demonstrate that centre-ground politics can deliver a progressive, prosperous and secure future for the people of this country. If we do not do that, the future of this country and its economy is very much in danger.     Share           2.43 pm        The edit just \""
   ]
  },
  {
   "cell_type": "code",
   "execution_count": 37,
   "metadata": {},
   "outputs": [
    {
     "name": "stdout",
     "output_type": "stream",
     "text": [
      ".     Angela Smith (Penistone and Stocksbridge) (Lab)       Share       It is a pleasure to follow the hon. Member for Eastleigh (Mims Davies). I echo many of the comments about the economy made by my hon. Friends on the Front Bench, particularly in relation to productivity, with the latest figures showing the largest quarterly fall since 2008. I acknowledge that the Government have issued a challenge to areas such as mine to play their part in tackling the productivity and economic growth gap by developing devolution in the form of the northern powerhouse. I for one accept that challenge. I accept that Sheffield city region has to raise its game. We have to play our part and believe in ourselves, which we have not done for a very long time. Quite simply—as one employer said to me today in an email—we must believe that we have the skills, knowledge and ability to surpass London and become a generator of great wealth again. However, the Government must play their part too, and at the moment they are not doing so. The announcement today about the Department for Business, Innovation and Skills and the relocation of staff from Sheffield to London belies everything that the Government have said on this point, but they can remedy the situation. I will be watching carefully the development of the infrastructure plan. In particular, I will be looking for confirmation that the new trans-Pennine links between Manchester and Sheffield will be given the green light, as they are essential to the future of the northern economy. I will keep up the pressure on the Government to support a positive outcome to the steel crisis. Funnily enough, the crisis in South Yorkshire has triggered a revival in the faith and the confidence that we used to have in ourselves and in our engineering prowess. My plea to the Government today is: please do not let us down. We believe that we are the best steel producers in the world. If the Government believe in us, we will deliver. Let me turn now to the biggest threat facing the economy in the next few years—the instability that is currently characterising our political system. Let us be clear about this: in the UK, politics is polarising. We know that it is happening on the Labour Benches, as we have shifted to the left. On the Government Benches, Brexit is tearing the Conservative party apart, and the centre ground is disappearing before our very eyes. What on earth happened to the politics of the art of the possible? This movement is happening globally. In some countries, the polarisation is even greater. One has to look only at Austria last week and at Holland, where the three mainstream parties are set to secure, in total, just 40% in the elections next year. As we have seen, even the US is not immune from the phenomenon. Globalisation is one of the main causes of the situation. I echo the words of Mr Blair who said today that the problem of the centre ground was that it looks “as if we are managers of the status quo and not changers of it”. It is a worrying trend, and polarisation of the political sphere is creating a vacuum that could visit lasting damage on the social and economic fabric of this country. We bear a responsibility to resurrect the relevance of pragmatic politics. We need to demonstrate that centre-ground politics can deliver a progressive, prosperous and secure future for the people of this country. If we do not do that, the future of this country and its economy is very much in danger.     Share           2.43 pm        The edit just \n"
     ]
    }
   ],
   "source": [
    "print(text)"
   ]
  },
  {
   "cell_type": "code",
   "execution_count": 55,
   "metadata": {},
   "outputs": [],
   "source": [
    "def savesent(text):\n",
    "    lst = []\n",
    "    lot = [i for i in list(text.split(\" \")) if i !=\"\"]\n",
    "    sent=\"\"\n",
    "    for i in lot:\n",
    "        if i[-1] not in (\".\", \"!\", \"?\"):\n",
    "            sent+=i\n",
    "            sent+=\" \"\n",
    "        else:\n",
    "            sent+=i\n",
    "            lst.append(sent)\n",
    "            sent=\"\"\n",
    "    return lst\n",
    "    "
   ]
  },
  {
   "cell_type": "code",
   "execution_count": 56,
   "metadata": {},
   "outputs": [
    {
     "name": "stdout",
     "output_type": "stream",
     "text": [
      "['.', 'Angela Smith (Penistone and Stocksbridge) (Lab) Share It is a pleasure to follow the hon.', 'Member for Eastleigh (Mims Davies).', 'I echo many of the comments about the economy made by my hon.', 'Friends on the Front Bench, particularly in relation to productivity, with the latest figures showing the largest quarterly fall since 2008.', 'I acknowledge that the Government have issued a challenge to areas such as mine to play their part in tackling the productivity and economic growth gap by developing devolution in the form of the northern powerhouse.', 'I for one accept that challenge.', 'I accept that Sheffield city region has to raise its game.', 'We have to play our part and believe in ourselves, which we have not done for a very long time.', 'Quite simply—as one employer said to me today in an email—we must believe that we have the skills, knowledge and ability to surpass London and become a generator of great wealth again.', 'However, the Government must play their part too, and at the moment they are not doing so.', 'The announcement today about the Department for Business, Innovation and Skills and the relocation of staff from Sheffield to London belies everything that the Government have said on this point, but they can remedy the situation.', 'I will be watching carefully the development of the infrastructure plan.', 'In particular, I will be looking for confirmation that the new trans-Pennine links between Manchester and Sheffield will be given the green light, as they are essential to the future of the northern economy.', 'I will keep up the pressure on the Government to support a positive outcome to the steel crisis.', 'Funnily enough, the crisis in South Yorkshire has triggered a revival in the faith and the confidence that we used to have in ourselves and in our engineering prowess.', 'My plea to the Government today is: please do not let us down.', 'We believe that we are the best steel producers in the world.', 'If the Government believe in us, we will deliver.', 'Let me turn now to the biggest threat facing the economy in the next few years—the instability that is currently characterising our political system.', 'Let us be clear about this: in the UK, politics is polarising.', 'We know that it is happening on the Labour Benches, as we have shifted to the left.', 'On the Government Benches, Brexit is tearing the Conservative party apart, and the centre ground is disappearing before our very eyes.', 'What on earth happened to the politics of the art of the possible?', 'This movement is happening globally.', 'In some countries, the polarisation is even greater.', 'One has to look only at Austria last week and at Holland, where the three mainstream parties are set to secure, in total, just 40% in the elections next year.', 'As we have seen, even the US is not immune from the phenomenon.', 'Globalisation is one of the main causes of the situation.', 'I echo the words of Mr Blair who said today that the problem of the centre ground was that it looks “as if we are managers of the status quo and not changers of it”.', 'It is a worrying trend, and polarisation of the political sphere is creating a vacuum that could visit lasting damage on the social and economic fabric of this country.', 'We bear a responsibility to resurrect the relevance of pragmatic politics.', 'We need to demonstrate that centre-ground politics can deliver a progressive, prosperous and secure future for the people of this country.', 'If we do not do that, the future of this country and its economy is very much in danger.']\n"
     ]
    }
   ],
   "source": [
    "sentences = savesent(text)\n",
    "print(sentences)"
   ]
  },
  {
   "cell_type": "code",
   "execution_count": 57,
   "metadata": {},
   "outputs": [],
   "source": [
    "c = \"manchester\"\n",
    "spansize = 5\n",
    "cooccs = Counter()\n",
    "\n",
    "for sentence in sentences:\n",
    "    losentence = sentence.split(\" \")\n",
    "    for i in range(0, len(losentence)):\n",
    "        w=losentence[i]\n",
    "        if w.lower() == c: #changed to w[0] because I use tuples \n",
    "            span_range = list(range(max(i-spansize, 0), i))\n",
    "            span_range.extend(range(i+1, min(i + spansize + 1, len(losentence))))  \n",
    "            for cw in [losentence[idx] for idx in span_range]:\n",
    "                cooccs[(w, cw)] += 1"
   ]
  },
  {
   "cell_type": "code",
   "execution_count": 59,
   "metadata": {},
   "outputs": [
    {
     "name": "stdout",
     "output_type": "stream",
     "text": [
      "Counter({('Manchester', 'the'): 1, ('Manchester', 'new'): 1, ('Manchester', 'trans-Pennine'): 1, ('Manchester', 'links'): 1, ('Manchester', 'between'): 1, ('Manchester', 'and'): 1, ('Manchester', 'Sheffield'): 1, ('Manchester', 'will'): 1, ('Manchester', 'be'): 1, ('Manchester', 'given'): 1})\n"
     ]
    },
    {
     "data": {
      "text/plain": [
       "[(('Manchester', 'the'), 1),\n",
       " (('Manchester', 'new'), 1),\n",
       " (('Manchester', 'trans-Pennine'), 1)]"
      ]
     },
     "execution_count": 59,
     "metadata": {},
     "output_type": "execute_result"
    }
   ],
   "source": [
    "print(cooccs)\n",
    "cooccs.most_common(3)"
   ]
  },
  {
   "cell_type": "code",
   "execution_count": null,
   "metadata": {},
   "outputs": [],
   "source": []
  }
 ],
 "metadata": {
  "kernelspec": {
   "display_name": "Python 3",
   "language": "python",
   "name": "python3"
  },
  "language_info": {
   "codemirror_mode": {
    "name": "ipython",
    "version": 3
   },
   "file_extension": ".py",
   "mimetype": "text/x-python",
   "name": "python",
   "nbconvert_exporter": "python",
   "pygments_lexer": "ipython3",
   "version": "3.7.4"
  }
 },
 "nbformat": 4,
 "nbformat_minor": 2
}
